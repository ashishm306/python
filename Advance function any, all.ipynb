{
 "cells": [
  {
   "cell_type": "code",
   "execution_count": 1,
   "metadata": {},
   "outputs": [],
   "source": [
    "#vid 159\n",
    "#define a function take any no. of list containing number\n",
    "#[1,4,7] ,[2,5,8] ,[3,6,9]\n",
    "#return average\n",
    "#(1+4+7)/2 , (2,5,8)/3 ,(7+8+9)/3"
   ]
  },
  {
   "cell_type": "code",
   "execution_count": 3,
   "metadata": {},
   "outputs": [
    {
     "name": "stdout",
     "output_type": "stream",
     "text": [
      "[2.5, 3.5, 4.5]\n"
     ]
    }
   ],
   "source": [
    "def average_finder(l1,l2):\n",
    "    average = []\n",
    "    for pair in zip(l1,l2):\n",
    "        average.append(sum(pair)/len(pair))\n",
    "    return average\n",
    "print(average_finder([1,2,3],[4,5,6]))"
   ]
  },
  {
   "cell_type": "code",
   "execution_count": 3,
   "metadata": {},
   "outputs": [
    {
     "name": "stdout",
     "output_type": "stream",
     "text": [
      "[1.0, 2.0, 3.0]\n"
     ]
    }
   ],
   "source": [
    "def average_finder(*l):\n",
    "    average = []\n",
    "    for pair in zip(*l):\n",
    "        average.append(sum(pair)/len(pair))\n",
    "    return average\n",
    "print(average_finder([1,2,3],[4,5,6]))"
   ]
  },
  {
   "cell_type": "code",
   "execution_count": 6,
   "metadata": {},
   "outputs": [
    {
     "name": "stdout",
     "output_type": "stream",
     "text": [
      "[2.5, 3.5, 4.5]\n"
     ]
    }
   ],
   "source": [
    "#using lambda\n",
    "average_finder = lambda *args : [sum(pair)/len(pair) for pair in zip(*args)]\n",
    "print(average_finder([1,2,3],[4,5,6]))"
   ]
  },
  {
   "cell_type": "code",
   "execution_count": 10,
   "metadata": {},
   "outputs": [
    {
     "name": "stdout",
     "output_type": "stream",
     "text": [
      "[True, True, True, True, True]\n",
      "True\n"
     ]
    }
   ],
   "source": [
    "#vid - 160\n",
    "#any function - it will return true if any value in list is true\n",
    "#all function  - it will return true if all value are true\n",
    "numbers1 = [2,4,6,8,10]\n",
    "numbers2 = [1,2,3,4,5,6]\n",
    "\n",
    "even=[i%2 == 0 for i in numbers1]\n",
    "print(even)\n",
    "print(all(even))"
   ]
  },
  {
   "cell_type": "code",
   "execution_count": 11,
   "metadata": {},
   "outputs": [
    {
     "name": "stdout",
     "output_type": "stream",
     "text": [
      "[False, True, False, True, False, True]\n",
      "False\n"
     ]
    }
   ],
   "source": [
    "numbers1 = [2,4,6,8,10]\n",
    "numbers2 = [1,2,3,4,5,6]\n",
    "\n",
    "even=[i%2 == 0 for i in numbers2]\n",
    "print(even)\n",
    "print(all(even))"
   ]
  },
  {
   "cell_type": "code",
   "execution_count": 12,
   "metadata": {},
   "outputs": [
    {
     "name": "stdout",
     "output_type": "stream",
     "text": [
      "[False, True, False, True, False, True]\n",
      "True\n"
     ]
    }
   ],
   "source": [
    "numbers1 = [2,4,6,8,10]\n",
    "numbers2 = [1,2,3,4,5,6]\n",
    "\n",
    "even=[i%2 == 0 for i in numbers2]\n",
    "print(even)\n",
    "print(any(even))"
   ]
  },
  {
   "cell_type": "code",
   "execution_count": 16,
   "metadata": {},
   "outputs": [
    {
     "name": "stdout",
     "output_type": "stream",
     "text": [
      "28\n"
     ]
    }
   ],
   "source": [
    "#take correct input using any or all\n",
    "def my_sum(*args):\n",
    "    if all([(type(arg)==int or type(arg) == float)  for arg in args]):\n",
    "        total = 0\n",
    "        for num in args :\n",
    "            total+= num\n",
    "        return total\n",
    "    else:\n",
    "        return \"wrong input\"\n",
    "print(my_sum(1,2,3,4,5,6,7))"
   ]
  },
  {
   "cell_type": "code",
   "execution_count": 17,
   "metadata": {},
   "outputs": [
    {
     "name": "stdout",
     "output_type": "stream",
     "text": [
      "wrong input\n"
     ]
    }
   ],
   "source": [
    "print(my_sum(1,2,3,4,5,6,'ashish'))"
   ]
  },
  {
   "cell_type": "code",
   "execution_count": 21,
   "metadata": {},
   "outputs": [
    {
     "name": "stdout",
     "output_type": "stream",
     "text": [
      "Ashish\n"
     ]
    }
   ],
   "source": [
    "#vid-162 advance min() and max() \n",
    "#we will use key there which will take func name\n",
    "\n",
    "def func(items):\n",
    "    return len(items)\n",
    "names = ['Ashish' , '306#','abc']\n",
    "print(max(names,key = func))"
   ]
  },
  {
   "cell_type": "code",
   "execution_count": 22,
   "metadata": {},
   "outputs": [
    {
     "name": "stdout",
     "output_type": "stream",
     "text": [
      "abc\n"
     ]
    }
   ],
   "source": [
    "def func(items):\n",
    "    return len(items)\n",
    "names = ['Ashish' , '306#','abc']\n",
    "print(min(names,key = func))"
   ]
  },
  {
   "cell_type": "code",
   "execution_count": 28,
   "metadata": {},
   "outputs": [
    {
     "name": "stdout",
     "output_type": "stream",
     "text": [
      "abc\n"
     ]
    }
   ],
   "source": [
    "#we can also use lambda function\n",
    "names = ['Ashish' , '306#','abc']\n",
    "print(min(names,key = lambda a : len(a)))"
   ]
  },
  {
   "cell_type": "code",
   "execution_count": 45,
   "metadata": {},
   "outputs": [
    {
     "name": "stdout",
     "output_type": "stream",
     "text": [
      "harshit\n"
     ]
    }
   ],
   "source": [
    "#max on dict\n",
    "student = [\n",
    "    \n",
    "    {'name':'harshit' , 'score' : 90 ,\"age\" : 25},\n",
    "    {'name':'harsha' , 'score' : 40 ,\"age \": 24}\n",
    "]\n",
    "print(max(student,key = lambda item : item.get('score'))[\"name\"])"
   ]
  },
  {
   "cell_type": "code",
   "execution_count": 3,
   "metadata": {},
   "outputs": [
    {
     "name": "stdout",
     "output_type": "stream",
     "text": [
      "['apple', 'grapes', 'mango']\n"
     ]
    }
   ],
   "source": [
    "#advance sorted function\n",
    "fruits = ['grapes' ,'mango','apple']\n",
    "fruits.sort()\n",
    "print((fruits))"
   ]
  },
  {
   "cell_type": "code",
   "execution_count": 55,
   "metadata": {},
   "outputs": [
    {
     "name": "stdout",
     "output_type": "stream",
     "text": [
      "('grapes', 'mango', 'apple')\n"
     ]
    }
   ],
   "source": [
    "#now sorted -this function is mostly implement on tuple ,set, dict,list\n",
    "#it return a list of sorted item and do not change on original list\n",
    "fruits2=('grapes' ,'mango','apple')\n",
    "sorted(fruits2)\n",
    "print(fruits2) #it will give original tuple\n"
   ]
  },
  {
   "cell_type": "code",
   "execution_count": 57,
   "metadata": {},
   "outputs": [
    {
     "name": "stdout",
     "output_type": "stream",
     "text": [
      "['apple', 'grapes', 'mango']\n"
     ]
    }
   ],
   "source": [
    "fruits2=('grapes' ,'mango','apple')\n",
    "t = sorted(fruits2)\n",
    "print(t)#it will give new list of t"
   ]
  },
  {
   "cell_type": "code",
   "execution_count": 60,
   "metadata": {},
   "outputs": [
    {
     "name": "stdout",
     "output_type": "stream",
     "text": [
      "this fun take two args and return their sum\n",
      "Help on function add in module __main__:\n",
      "\n",
      "add(a, b)\n",
      "    this fun take two args and return their sum\n",
      "\n"
     ]
    }
   ],
   "source": [
    "#vid 164\n",
    "#what are doc string\n",
    "#how to write docstring between one ' doc' or three ''' doc '''\n",
    "#how to see docstring\n",
    "#what is help function\n",
    "\n",
    "def add(a,b):\n",
    "    '''this fun take two args and return their sum'''\n",
    "    return a+b\n",
    "print(add.__doc__)\n",
    "help(add)"
   ]
  },
  {
   "cell_type": "code",
   "execution_count": null,
   "metadata": {},
   "outputs": [],
   "source": [
    "\n",
    "\n"
   ]
  },
  {
   "cell_type": "code",
   "execution_count": null,
   "metadata": {},
   "outputs": [],
   "source": []
  }
 ],
 "metadata": {
  "kernelspec": {
   "display_name": "Python 3",
   "language": "python",
   "name": "python3"
  },
  "language_info": {
   "codemirror_mode": {
    "name": "ipython",
    "version": 3
   },
   "file_extension": ".py",
   "mimetype": "text/x-python",
   "name": "python",
   "nbconvert_exporter": "python",
   "pygments_lexer": "ipython3",
   "version": "3.6.8"
  }
 },
 "nbformat": 4,
 "nbformat_minor": 4
}
