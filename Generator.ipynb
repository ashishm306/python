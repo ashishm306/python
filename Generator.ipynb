{
 "cells": [
  {
   "cell_type": "markdown",
   "metadata": {},
   "source": [
    "# Generator"
   ]
  },
  {
   "cell_type": "raw",
   "metadata": {},
   "source": [
    "vid - 177 \n",
    "it is a type of object which traverse only one side , it don't come back to start point\n",
    "BY using yield we can make a object and can use it in loop\n",
    "they are faster than list\n",
    "they take less memory space than list\n",
    "we use function to make generator\n",
    "generator is a iterator"
   ]
  },
  {
   "cell_type": "code",
   "execution_count": 11,
   "metadata": {},
   "outputs": [
    {
     "data": {
      "text/plain": [
       "<generator object nums at 0x00000163C0F21620>"
      ]
     },
     "execution_count": 11,
     "metadata": {},
     "output_type": "execute_result"
    }
   ],
   "source": [
    "#vid-178\n",
    "#create your first generator with generator function\n",
    "def nums(n):\n",
    "    for i in range(1,n+1):\n",
    "        yield i  #yield me ek time pe ek hi value hogi jiski wajah se memory bhi kam ag rahi h\n",
    "nums(10)"
   ]
  },
  {
   "cell_type": "code",
   "execution_count": 12,
   "metadata": {},
   "outputs": [
    {
     "name": "stdout",
     "output_type": "stream",
     "text": [
      "1\n",
      "2\n",
      "3\n",
      "4\n",
      "5\n",
      "6\n",
      "7\n",
      "8\n",
      "9\n",
      "10\n"
     ]
    }
   ],
   "source": [
    "def nums(n):\n",
    "    for i in range(1,n+1):\n",
    "        yield i  \n",
    "for i in nums(10):\n",
    "    print(i)\n",
    "    "
   ]
  },
  {
   "cell_type": "code",
   "execution_count": 13,
   "metadata": {},
   "outputs": [
    {
     "name": "stdout",
     "output_type": "stream",
     "text": [
      "2\n",
      "4\n",
      "6\n",
      "8\n",
      "10\n"
     ]
    }
   ],
   "source": [
    "def even(n):\n",
    "    for i in range(1,n+1):\n",
    "        if(i%2==0):\n",
    "            yield i\n",
    "for i in even(10):\n",
    "    print(i)"
   ]
  },
  {
   "cell_type": "code",
   "execution_count": 2,
   "metadata": {},
   "outputs": [
    {
     "name": "stdout",
     "output_type": "stream",
     "text": [
      "<generator object <genexpr> at 0x0000013DC13C2620>\n",
      "1\n",
      "4\n",
      "9\n",
      "16\n",
      "25\n",
      "36\n",
      "49\n",
      "64\n",
      "81\n",
      "100\n"
     ]
    }
   ],
   "source": [
    "#vid 181\n",
    "#generator comprehension\n",
    "square = (i**2 for i in range(1,11))\n",
    "print(square)\n",
    "for i in square:\n",
    "    print(i)\n",
    "for i in square:\n",
    "    print(i) #ye wali line print nhi hogi kyuki square me data nhi hoga #memory concept\n",
    "    "
   ]
  },
  {
   "cell_type": "code",
   "execution_count": null,
   "metadata": {},
   "outputs": [],
   "source": []
  }
 ],
 "metadata": {
  "kernelspec": {
   "display_name": "Python 3",
   "language": "python",
   "name": "python3"
  },
  "language_info": {
   "codemirror_mode": {
    "name": "ipython",
    "version": 3
   },
   "file_extension": ".py",
   "mimetype": "text/x-python",
   "name": "python",
   "nbconvert_exporter": "python",
   "pygments_lexer": "ipython3",
   "version": "3.6.8"
  }
 },
 "nbformat": 4,
 "nbformat_minor": 4
}
