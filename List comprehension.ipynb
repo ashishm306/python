{
 "cells": [
  {
   "cell_type": "raw",
   "metadata": {},
   "source": [
    "vid 128\n",
    "list comprehension - with the help of list comprehension we can create list in one line"
   ]
  },
  {
   "cell_type": "code",
   "execution_count": 2,
   "metadata": {},
   "outputs": [
    {
     "name": "stdout",
     "output_type": "stream",
     "text": [
      "[1, 4, 9, 16, 25, 36, 49, 64, 81, 100]\n"
     ]
    }
   ],
   "source": [
    "#without list comprehension\n",
    "square = []\n",
    "for i in range(1,11):\n",
    "    square.append(i**2)\n",
    "print(square)"
   ]
  },
  {
   "cell_type": "code",
   "execution_count": 4,
   "metadata": {},
   "outputs": [
    {
     "name": "stdout",
     "output_type": "stream",
     "text": [
      "[1, 4, 9, 16, 25, 36, 49, 64, 81, 100]\n"
     ]
    }
   ],
   "source": [
    "#with list comprehension\n",
    "square  = [i**2 for i in range(1,11)]\n",
    "print(square)"
   ]
  },
  {
   "cell_type": "code",
   "execution_count": 7,
   "metadata": {},
   "outputs": [
    {
     "name": "stdout",
     "output_type": "stream",
     "text": [
      "[-1, -2, -3, -4, -5, -6, -7, -8, -9, -10]\n"
     ]
    }
   ],
   "source": [
    "#without list comprehension\n",
    "negative = []\n",
    "for i in  range(1,11):\n",
    "    negative.append(-i)\n",
    "print(negative\n",
    "     )"
   ]
  },
  {
   "cell_type": "code",
   "execution_count": 9,
   "metadata": {},
   "outputs": [
    {
     "name": "stdout",
     "output_type": "stream",
     "text": [
      "[-1, -2, -3, -4, -5, -6, -7, -8, -9, -10]\n"
     ]
    }
   ],
   "source": [
    "#with list comprehension\n",
    "new_negative=[-i for i in range(1,11)]\n",
    "print(new_negative)"
   ]
  },
  {
   "cell_type": "code",
   "execution_count": 17,
   "metadata": {},
   "outputs": [
    {
     "name": "stdout",
     "output_type": "stream",
     "text": [
      "['h', 'm', 'r']\n"
     ]
    }
   ],
   "source": [
    "names = [\"harshi\",'mohit','rohit']\n",
    "new_names = [i[0] for i in names]\n",
    "print(new_names)"
   ]
  },
  {
   "cell_type": "code",
   "execution_count": 18,
   "metadata": {},
   "outputs": [
    {
     "name": "stdout",
     "output_type": "stream",
     "text": [
      "['ihsrah', 'tihom', 'tihor']\n"
     ]
    }
   ],
   "source": [
    "#exercise 1 \n",
    "names = [\"harshi\",'mohit','rohit']\n",
    "new_names = [i[::-1] for i in names]\n",
    "print(new_names)"
   ]
  },
  {
   "cell_type": "code",
   "execution_count": 19,
   "metadata": {},
   "outputs": [
    {
     "name": "stdout",
     "output_type": "stream",
     "text": [
      "[2, 4, 6, 8]\n"
     ]
    }
   ],
   "source": [
    "#l=vid 131 ,list comprehension with if statement #even num\n",
    "nums=[]\n",
    "for i in range(1,10):\n",
    "    if i%2==0:\n",
    "        nums.append(i)\n",
    "print(nums)"
   ]
  },
  {
   "cell_type": "code",
   "execution_count": 2,
   "metadata": {},
   "outputs": [
    {
     "name": "stdout",
     "output_type": "stream",
     "text": [
      "[2, 4, 6, 8]\n"
     ]
    }
   ],
   "source": [
    "#now usinf list comprehension\n",
    "nums = [i for i in range(1,10) if i %2 == 0 ]\n",
    "print(nums)"
   ]
  },
  {
   "cell_type": "code",
   "execution_count": 25,
   "metadata": {},
   "outputs": [
    {
     "name": "stdout",
     "output_type": "stream",
     "text": [
      "['1', '1.2', '6']\n"
     ]
    }
   ],
   "source": [
    "#exercise 2 , vid 132\n",
    "l=[]\n",
    "def check(l1):\n",
    "    for i in l1:\n",
    "        if (type(i)==int or type(i)==float):\n",
    "            l.append(str(i))\n",
    "    return l\n",
    "\n",
    "list1=[True,[1,2,3],{1,2},1,1.2,6]\n",
    "var=check(list1)\n",
    "print(var)"
   ]
  },
  {
   "cell_type": "code",
   "execution_count": 28,
   "metadata": {},
   "outputs": [
    {
     "name": "stdout",
     "output_type": "stream",
     "text": [
      "['1', '1.2', '6']\n"
     ]
    }
   ],
   "source": [
    "def check(l):\n",
    "    return [str(i) for i in l if (type(i)==int or type(i)==float) ]\n",
    "list1=[True,[1,2,3],{1,2},1,1.2,6]\n",
    "newlist=check(list1)\n",
    "print(newlist)"
   ]
  },
  {
   "cell_type": "code",
   "execution_count": 32,
   "metadata": {
    "scrolled": true
   },
   "outputs": [
    {
     "name": "stdout",
     "output_type": "stream",
     "text": [
      "[-1, 4, -3, 8, -5, 12, -7, 16, -9, 20]\n"
     ]
    }
   ],
   "source": [
    "#vid 134 List comprehension with if else - isme if , else pehle likhenge phir for loop chalega\n",
    "nums = [1,2,3,4,5,6,7,8,9,10]\n",
    "new_list = []\n",
    "for i in nums:\n",
    "    if i % 2==0:\n",
    "        new_list.append(i*2)\n",
    "    else:\n",
    "        new_list.append(-i)\n",
    "print(new_list)"
   ]
  },
  {
   "cell_type": "code",
   "execution_count": 33,
   "metadata": {},
   "outputs": [
    {
     "name": "stdout",
     "output_type": "stream",
     "text": [
      "[-1, 4, -3, 8, -5, 12, -7, 16, -9, 20]\n"
     ]
    }
   ],
   "source": [
    "nums = [1,2,3,4,5,6,7,8,9,10]\n",
    "new_list2 = [i*2 if (i % 2 == 0) else -i for i in nums]\n",
    "print(new_list2)"
   ]
  },
  {
   "cell_type": "code",
   "execution_count": 41,
   "metadata": {},
   "outputs": [
    {
     "name": "stdout",
     "output_type": "stream",
     "text": [
      "[[1, 2, 3], [1, 2, 3], [1, 2, 3]]\n"
     ]
    }
   ],
   "source": [
    "#nested list comprehension  , vid 135 \n",
    "#example = [[1,2,3],[1,2,3],[1,2,3]]\n",
    "l=[ [i for i in range(1,)] for j in range(1,4) ]\n",
    "print(l)"
   ]
  },
  {
   "cell_type": "code",
   "execution_count": null,
   "metadata": {},
   "outputs": [],
   "source": []
  }
 ],
 "metadata": {
  "kernelspec": {
   "display_name": "Python 3",
   "language": "python",
   "name": "python3"
  },
  "language_info": {
   "codemirror_mode": {
    "name": "ipython",
    "version": 3
   },
   "file_extension": ".py",
   "mimetype": "text/x-python",
   "name": "python",
   "nbconvert_exporter": "python",
   "pygments_lexer": "ipython3",
   "version": "3.6.8"
  }
 },
 "nbformat": 4,
 "nbformat_minor": 4
}
