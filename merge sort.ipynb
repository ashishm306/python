{
 "cells": [
  {
   "cell_type": "code",
   "execution_count": 26,
   "metadata": {},
   "outputs": [
    {
     "name": "stdout",
     "output_type": "stream",
     "text": [
      "0\n",
      "sorted list is :  [1, 3, 5, 7]\n"
     ]
    }
   ],
   "source": [
    "def mergesort(list1):\n",
    "    inver_c=0\n",
    "    if len(list1)>1:\n",
    "            \n",
    "        mid=len(list1)//2\n",
    "        left_list=list1[:mid]\n",
    "        right_list=list1[mid:]   \n",
    "        inver_c+=mergesort(left_list)\n",
    "        inver_c+=mergesort(right_list)\n",
    "   \n",
    "        i=0\n",
    "        j=0\n",
    "        k=0\n",
    "        while i<len(left_list) and j<len(right_list):\n",
    "            if left_list[i]<right_list[j]:\n",
    "                list1[k]=left_list[i]\n",
    "                i+=1\n",
    "                k+=1\n",
    "                \n",
    "            else:\n",
    "                list1[k]=right_list[j]\n",
    "                j+=1\n",
    "                k+=1\n",
    "                inver_c=len(left_list)-i\n",
    "        \n",
    "             \n",
    "\n",
    "        while i<len(left_list) :\n",
    "            list1[k]=left_list[i]\n",
    "            i+=1\n",
    "            k+=1\n",
    "        while j<len(right_list) :\n",
    "            list1[k]=right_list[j]\n",
    "            j+=1\n",
    "            k+=1\n",
    "        inver_c=0    \n",
    "    return inver_c\n",
    "#num=int(input(\"how many elements you wants in list: \"))\n",
    "# list1=[int(input()) for i in range (num)]\n",
    "list1=[7,5,3,1]\n",
    "inver_c=0\n",
    "\n",
    "mergesort(list1)\n",
    "print(inver_c)\n",
    "print(\"sorted list is : \",list1)\n",
    "\n",
    "\n"
   ]
  },
  {
   "cell_type": "code",
   "execution_count": null,
   "metadata": {},
   "outputs": [],
   "source": []
  },
  {
   "cell_type": "code",
   "execution_count": 37,
   "metadata": {},
   "outputs": [
    {
     "name": "stdout",
     "output_type": "stream",
     "text": [
      "1\n",
      "4\n",
      "7 5 3 1\n",
      "6\n"
     ]
    }
   ],
   "source": [
    "def merge(l,lo,mid,hi):\n",
    "    left=l[lo:mid+1].copy()\n",
    "    right=l[mid+1:hi+1].copy()\n",
    "    i=j=c=x=0\n",
    "    k=lo\n",
    "    left.append((10**8))\n",
    "    right.append((10**8))\n",
    "    for k in range(lo,hi+1):\n",
    "        if left[i]<=right[j]:\n",
    "            l[k]=left[i]\n",
    "            i+=1\n",
    "            c+=j\n",
    "        else:\n",
    "            x+=1\n",
    "            l[k]=right[j]\n",
    "            j+=1\n",
    "    return c\n",
    "\n",
    "\n",
    "def count(l,lo,hi):\n",
    "    if lo>=hi:\n",
    "        return 0\n",
    "    mid=(lo+hi)//2\n",
    "    c=0\n",
    "    c+=count(l,lo,mid)+count(l,mid+1,hi)\n",
    "    c+=merge(l,lo,mid,hi)\n",
    "    return c\n",
    "\n",
    "\n",
    "t=int(input())\n",
    "for _ in range(t):\n",
    "    n=int(input())\n",
    "    l=list(map(int,input().split()))\n",
    "    print(count(l,0,n-1))"
   ]
  },
  {
   "cell_type": "code",
   "execution_count": 39,
   "metadata": {},
   "outputs": [
    {
     "name": "stdout",
     "output_type": "stream",
     "text": [
      "0\n",
      "sorted list is :  [1, 3, 5, 7]\n"
     ]
    }
   ],
   "source": [
    "def mergesort(list1):\n",
    "    inver_c=0\n",
    "    if len(list1)>1:\n",
    "            \n",
    "        mid=len(list1)//2\n",
    "        left_list=list1[:mid]\n",
    "        right_list=list1[mid:]   \n",
    "        inver_c+=mergesort(left_list)\n",
    "        inver_c+=mergesort(right_list)\n",
    "   \n",
    "        i=0\n",
    "        j=0\n",
    "        k=0\n",
    "        while i<len(left_list) and j<len(right_list):\n",
    "            if left_list[i]<right_list[j]:\n",
    "                list1[k]=left_list[i]\n",
    "                i+=1\n",
    "                k+=1\n",
    "                \n",
    "            else:\n",
    "                list1[k]=right_list[j]\n",
    "                j+=1\n",
    "                k+=1\n",
    "                inver_c=len(left_list)-i\n",
    "        \n",
    "             \n",
    "\n",
    "        while i<len(left_list) :\n",
    "            list1[k]=left_list[i]\n",
    "            i+=1\n",
    "            k+=1\n",
    "        while j<len(right_list) :\n",
    "            list1[k]=right_list[j]\n",
    "            j+=1\n",
    "            k+=1\n",
    "        return inver_c \n",
    "    return inver_c\n",
    "#num=int(input(\"how many elements you wants in list: \"))\n",
    "# list1=[int(input()) for i in range (num)]\n",
    "list1=[7,5,3,1]\n",
    "inver_c=0\n",
    "\n",
    "mergesort(list1)\n",
    "print(inver_c)\n",
    "print(\"sorted list is : \",list1)\n"
   ]
  },
  {
   "cell_type": "code",
   "execution_count": null,
   "metadata": {},
   "outputs": [],
   "source": []
  }
 ],
 "metadata": {
  "kernelspec": {
   "display_name": "Python 3",
   "language": "python",
   "name": "python3"
  }
 },
 "nbformat": 4,
 "nbformat_minor": 4
}
