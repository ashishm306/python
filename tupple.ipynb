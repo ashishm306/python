{
 "cells": [
  {
   "cell_type": "raw",
   "metadata": {},
   "source": [
    "vid-109\n",
    "#tuple data structure\n",
    "#tuple can store any data type\n",
    "#most important tuple are immutable,once tuple is created you can't update\n",
    "# we use it when we know that data id not going to change\n",
    "# no append,no insert , no pop , no  remove\n",
    "#tuples are faster than list\n"
   ]
  },
  {
   "cell_type": "code",
   "execution_count": 5,
   "metadata": {},
   "outputs": [
    {
     "data": {
      "text/plain": [
       "1"
      ]
     },
     "execution_count": 5,
     "metadata": {},
     "output_type": "execute_result"
    }
   ],
   "source": [
    "example=('one','two','three')\n",
    "example.count(\"two\")\n"
   ]
  },
  {
   "cell_type": "code",
   "execution_count": 6,
   "metadata": {},
   "outputs": [
    {
     "data": {
      "text/plain": [
       "3"
      ]
     },
     "execution_count": 6,
     "metadata": {},
     "output_type": "execute_result"
    }
   ],
   "source": [
    "example=('one','two','three')\n",
    "example.count(\"two\")\n",
    "len(example)"
   ]
  },
  {
   "cell_type": "code",
   "execution_count": 7,
   "metadata": {},
   "outputs": [
    {
     "name": "stdout",
     "output_type": "stream",
     "text": [
      "1\n",
      "2\n",
      "3\n",
      "4\n"
     ]
    }
   ],
   "source": [
    "#vid 110\n",
    "mixed = (1,2,3,4)\n",
    "#loopinf in tuple\n",
    "for i in mixed:\n",
    "    print(i)"
   ]
  },
  {
   "cell_type": "code",
   "execution_count": 8,
   "metadata": {},
   "outputs": [
    {
     "data": {
      "text/plain": [
       "int"
      ]
     },
     "execution_count": 8,
     "metadata": {},
     "output_type": "execute_result"
    }
   ],
   "source": [
    "#tuple with one element\n",
    "num=(1) # this is not a tupple\n",
    "type(num)"
   ]
  },
  {
   "cell_type": "code",
   "execution_count": 9,
   "metadata": {},
   "outputs": [
    {
     "data": {
      "text/plain": [
       "tuple"
      ]
     },
     "execution_count": 9,
     "metadata": {},
     "output_type": "execute_result"
    }
   ],
   "source": [
    "num=(1,)\n",
    "type(num)"
   ]
  },
  {
   "cell_type": "code",
   "execution_count": 10,
   "metadata": {},
   "outputs": [
    {
     "data": {
      "text/plain": [
       "tuple"
      ]
     },
     "execution_count": 10,
     "metadata": {},
     "output_type": "execute_result"
    }
   ],
   "source": [
    "#tuple without parenthesis\n",
    "guitars='yahama','baton rouge' , 'taylor' # when we dont give any bracket python takes it as tuple\n",
    "type(guitars)"
   ]
  },
  {
   "cell_type": "code",
   "execution_count": 13,
   "metadata": {},
   "outputs": [
    {
     "name": "stdout",
     "output_type": "stream",
     "text": [
      "ashish\n"
     ]
    }
   ],
   "source": [
    "#tuple unpacking\n",
    "guitarist = ('ashish','michel','jordon')\n",
    "guitarist1,guitarist2,guitarst2 = guitarist # we can write guitarist in ( ) also ,(guitarist1)\n",
    "print(guitarist1)"
   ]
  },
  {
   "cell_type": "code",
   "execution_count": 1,
   "metadata": {},
   "outputs": [
    {
     "ename": "ValueError",
     "evalue": "too many values to unpack (expected 2)",
     "output_type": "error",
     "traceback": [
      "\u001b[1;31m---------------------------------------------------------------------------\u001b[0m",
      "\u001b[1;31mValueError\u001b[0m                                Traceback (most recent call last)",
      "\u001b[1;32m<ipython-input-1-8c8210c1f56c>\u001b[0m in \u001b[0;36m<module>\u001b[1;34m\u001b[0m\n\u001b[0;32m      1\u001b[0m \u001b[1;31m#if var is less than tuple index there will be error\u001b[0m\u001b[1;33m\u001b[0m\u001b[1;33m\u001b[0m\u001b[1;33m\u001b[0m\u001b[0m\n\u001b[0;32m      2\u001b[0m \u001b[0mguitarist\u001b[0m \u001b[1;33m=\u001b[0m \u001b[1;33m(\u001b[0m\u001b[1;34m'ashish'\u001b[0m\u001b[1;33m,\u001b[0m\u001b[1;34m'michel'\u001b[0m\u001b[1;33m,\u001b[0m\u001b[1;34m'jordon'\u001b[0m\u001b[1;33m)\u001b[0m\u001b[1;33m\u001b[0m\u001b[1;33m\u001b[0m\u001b[0m\n\u001b[1;32m----> 3\u001b[1;33m \u001b[0mguitarist1\u001b[0m\u001b[1;33m,\u001b[0m\u001b[0mguitarist2\u001b[0m \u001b[1;33m=\u001b[0m \u001b[0mguitarist\u001b[0m \u001b[1;31m# we can write guitarist in ( ) also ,(guitarist1)\u001b[0m\u001b[1;33m\u001b[0m\u001b[1;33m\u001b[0m\u001b[0m\n\u001b[0m\u001b[0;32m      4\u001b[0m \u001b[0mprint\u001b[0m\u001b[1;33m(\u001b[0m\u001b[0mguitarist1\u001b[0m\u001b[1;33m)\u001b[0m\u001b[1;33m\u001b[0m\u001b[1;33m\u001b[0m\u001b[0m\n",
      "\u001b[1;31mValueError\u001b[0m: too many values to unpack (expected 2)"
     ]
    }
   ],
   "source": [
    "#if var is less than tuple index there will be error\n",
    "guitarist = ('ashish','michel','jordon')\n",
    "guitarist1,guitarist2 = guitarist # we can write guitarist in ( ) also ,(guitarist1)\n",
    "print(guitarist1)"
   ]
  },
  {
   "cell_type": "code",
   "execution_count": 17,
   "metadata": {},
   "outputs": [
    {
     "name": "stdout",
     "output_type": "stream",
     "text": [
      "('southern mangolies', ['tokyo ghoul theme'])\n"
     ]
    }
   ],
   "source": [
    "#list inside tupple\n",
    "favourites = ('southern mangolies' , ['tokyo ghoul theme', 'landscape'])\n",
    "favourites[1].pop()\n",
    "print(favourites)"
   ]
  },
  {
   "cell_type": "code",
   "execution_count": null,
   "metadata": {},
   "outputs": [],
   "source": []
  }
 ],
 "metadata": {
  "kernelspec": {
   "display_name": "Python 3",
   "language": "python",
   "name": "python3"
  },
  "language_info": {
   "codemirror_mode": {
    "name": "ipython",
    "version": 3
   },
   "file_extension": ".py",
   "mimetype": "text/x-python",
   "name": "python",
   "nbconvert_exporter": "python",
   "pygments_lexer": "ipython3",
   "version": "3.6.8"
  }
 },
 "nbformat": 4,
 "nbformat_minor": 4
}
