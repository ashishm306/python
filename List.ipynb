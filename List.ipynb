{
 "cells": [
  {
   "cell_type": "raw",
   "metadata": {},
   "source": [
    "vid 82\n",
    "# list is a data structure\n",
    "#you can store anything in lists int, float,string"
   ]
  },
  {
   "cell_type": "code",
   "execution_count": 2,
   "metadata": {},
   "outputs": [
    {
     "name": "stdout",
     "output_type": "stream",
     "text": [
      "[1, 2, 3]\n"
     ]
    }
   ],
   "source": [
    "numbers = [1,2,3]\n",
    "print(numbers)"
   ]
  },
  {
   "cell_type": "code",
   "execution_count": 3,
   "metadata": {},
   "outputs": [
    {
     "name": "stdout",
     "output_type": "stream",
     "text": [
      "[7, 'word', 0.25]\n",
      "[7, 'word']\n"
     ]
    }
   ],
   "source": [
    "mixed_list=[7,\"word\",0.25]\n",
    "\n",
    "print(mixed_list)\n",
    "print(mixed_list[:2]) #slicing is same in list"
   ]
  },
  {
   "cell_type": "code",
   "execution_count": 4,
   "metadata": {},
   "outputs": [
    {
     "name": "stdout",
     "output_type": "stream",
     "text": [
      "[7, 'one', 'two', 'three']\n"
     ]
    }
   ],
   "source": [
    "mixed_list[1:]= [\"one\",\"two\",\"three\"]\n",
    "print(mixed_list)"
   ]
  },
  {
   "cell_type": "code",
   "execution_count": 23,
   "metadata": {},
   "outputs": [
    {
     "name": "stdout",
     "output_type": "stream",
     "text": [
      "['t', 'w', 'o']\n"
     ]
    }
   ],
   "source": [
    "mixed_list[:]='two' #when we pass the string separate character will go inside list\n",
    "print(mixed_list)"
   ]
  },
  {
   "cell_type": "code",
   "execution_count": 1,
   "metadata": {},
   "outputs": [
    {
     "name": "stdout",
     "output_type": "stream",
     "text": [
      "['grapes', 'apple']\n",
      "['grapes', 'apple', 6]\n"
     ]
    }
   ],
   "source": [
    "#vid 83\n",
    "#how to add items to our list\n",
    "#most common thing that you can do with your list and most important\n",
    "\n",
    "fruits=[\"grapes\",'apple']\n",
    "print(fruits)\n",
    "fruits.append(6) #append method item ko last me dalega\n",
    "print(fruits)"
   ]
  },
  {
   "cell_type": "code",
   "execution_count": 16,
   "metadata": {},
   "outputs": [
    {
     "name": "stdout",
     "output_type": "stream",
     "text": [
      "['grapes', 'mashroom', 'apple']\n"
     ]
    }
   ],
   "source": [
    "#insert method \n",
    "fruits1 = [\"grapes\",'apple'] #insert will take two argument one for index and other data\n",
    "fruits1.insert(1,\"mashroom\")\n",
    "print(fruits1)"
   ]
  },
  {
   "cell_type": "code",
   "execution_count": 17,
   "metadata": {},
   "outputs": [
    {
     "name": "stdout",
     "output_type": "stream",
     "text": [
      "['grapes', 'apple', 'one', 'two', 'three']\n"
     ]
    }
   ],
   "source": [
    "#how to join(concatination) two list \n",
    "fruits1 = [\"grapes\",'apple']\n",
    "fruits2 = [\"one\",\"two\",\"three\"]\n",
    "fruit=fruits1+fruits2\n",
    "print(fruit)"
   ]
  },
  {
   "cell_type": "code",
   "execution_count": 19,
   "metadata": {},
   "outputs": [
    {
     "name": "stdout",
     "output_type": "stream",
     "text": [
      "['grapes', 'apple', 'one', 'two', 'three']\n"
     ]
    }
   ],
   "source": [
    "#extend method is used to add one list into another, the elements will go inside first list\n",
    "fruits1 = [\"grapes\",'apple']\n",
    "fruits2 = [\"one\",\"two\",\"three\"]\n",
    "fruits1.extend(fruits2)\n",
    "print(fruits1)"
   ]
  },
  {
   "cell_type": "code",
   "execution_count": 20,
   "metadata": {},
   "outputs": [
    {
     "name": "stdout",
     "output_type": "stream",
     "text": [
      "['grapes', 'apple', ['one', 'two', 'three']]\n"
     ]
    }
   ],
   "source": [
    "#if we use append method then the list will go inside list\n",
    "fruits1 = [\"grapes\",'apple']\n",
    "fruits2 = [\"one\",\"two\",\"three\"]\n",
    "fruits1.append(fruits2)\n",
    "print(fruits1)"
   ]
  },
  {
   "cell_type": "code",
   "execution_count": 22,
   "metadata": {},
   "outputs": [
    {
     "name": "stdout",
     "output_type": "stream",
     "text": [
      "['one', 'two']\n"
     ]
    }
   ],
   "source": [
    "#vid 85\n",
    "#delete from list\n",
    "fruits2 = [\"one\",\"two\",\"three\"]\n",
    "fruits2.pop() #if not giving index then last element will be popped\n",
    "print(fruits2)"
   ]
  },
  {
   "cell_type": "code",
   "execution_count": 2,
   "metadata": {},
   "outputs": [
    {
     "name": "stdout",
     "output_type": "stream",
     "text": [
      "['one', 'three']\n"
     ]
    }
   ],
   "source": [
    "fruits2 = [\"one\",\"one\",\"three\"]\n",
    "fruits2.pop(fruits2.index(\"one\")) #if giving index then index  element will be popped\n",
    "print(fruits2)"
   ]
  },
  {
   "cell_type": "code",
   "execution_count": 29,
   "metadata": {},
   "outputs": [
    {
     "name": "stdout",
     "output_type": "stream",
     "text": [
      "['one', 'three']\n"
     ]
    }
   ],
   "source": [
    "#delete operator or delete statement\n",
    "fruits2 = [\"one\",\"two\",\"three\"]\n",
    "del fruits2[1] #it takes index as agerument \n",
    "print(fruits2)"
   ]
  },
  {
   "cell_type": "code",
   "execution_count": null,
   "metadata": {},
   "outputs": [],
   "source": []
  },
  {
   "cell_type": "code",
   "execution_count": 31,
   "metadata": {},
   "outputs": [
    {
     "name": "stdout",
     "output_type": "stream",
     "text": [
      "['one', 'two', 'three']\n"
     ]
    }
   ],
   "source": [
    "# remove method , if we dont know the index of element\n",
    "fruits2 = [\"one\",\"two\",\"three\",\"four\"]\n",
    "fruits2.remove('four')\n",
    "print(fruits2)"
   ]
  },
  {
   "cell_type": "code",
   "execution_count": 34,
   "metadata": {},
   "outputs": [
    {
     "name": "stdout",
     "output_type": "stream",
     "text": [
      "one is present\n"
     ]
    }
   ],
   "source": [
    "#vid 86\n",
    "#in keyword , to check if element is in the list or not\n",
    "fruits2 = [\"one\",\"two\",\"three\",\"four\"]\n",
    "if \"one\" in fruits2:\n",
    "    print(\"one is present\")\n",
    "else:\n",
    "    print(\"not present\")"
   ]
  },
  {
   "cell_type": "code",
   "execution_count": 35,
   "metadata": {},
   "outputs": [
    {
     "data": {
      "text/plain": [
       "2"
      ]
     },
     "execution_count": 35,
     "metadata": {},
     "output_type": "execute_result"
    }
   ],
   "source": [
    "#vid 87\n",
    "#count  method\n",
    "fruits = [\"apple\",\"banana\",\"pineapple\",\"papaya\",\"apple\"]\n",
    "fruits.count(\"apple\")"
   ]
  },
  {
   "cell_type": "code",
   "execution_count": 37,
   "metadata": {},
   "outputs": [
    {
     "name": "stdout",
     "output_type": "stream",
     "text": [
      "['apple', 'apple', 'banana', 'papaya', 'pineapple']\n"
     ]
    }
   ],
   "source": [
    "#sort method - it will change on the list\n",
    "fruits = [\"apple\",\"banana\",\"pineapple\",\"papaya\",\"apple\"]\n",
    "fruits.sort()\n",
    "print(fruits)"
   ]
  },
  {
   "cell_type": "code",
   "execution_count": 5,
   "metadata": {},
   "outputs": [
    {
     "name": "stdout",
     "output_type": "stream",
     "text": [
      "[5, 11, 42, 55, 113]\n"
     ]
    }
   ],
   "source": [
    "num=[11,5,42,55,113]\n",
    "num.sort()\n",
    "print(num)\n"
   ]
  },
  {
   "cell_type": "code",
   "execution_count": 50,
   "metadata": {},
   "outputs": [
    {
     "name": "stdout",
     "output_type": "stream",
     "text": [
      "[0, 1, 3, 8, 25, 46, 55]\n",
      "[1, 55, 3, 46, 8, 25, 0]\n"
     ]
    }
   ],
   "source": [
    "#sorted function- it will not change on the list\n",
    "num2=[1,55,3,46,8,25,0]\n",
    "\n",
    "print(sorted(num2))\n",
    "print(num2)\n"
   ]
  },
  {
   "cell_type": "code",
   "execution_count": 53,
   "metadata": {},
   "outputs": [
    {
     "name": "stdout",
     "output_type": "stream",
     "text": [
      "[]\n"
     ]
    }
   ],
   "source": [
    "#clear method- it will empty the list\n",
    "num2=[1,55,3,46,8,25,0]\n",
    "num2.clear()\n",
    "print(num2)"
   ]
  },
  {
   "cell_type": "code",
   "execution_count": 57,
   "metadata": {},
   "outputs": [
    {
     "name": "stdout",
     "output_type": "stream",
     "text": [
      "[1, 2, 3, 4, 5, 6, 7]\n"
     ]
    }
   ],
   "source": [
    "#copy - it is used to copy one list into another\n",
    "num = [1,2,3,4,5,6,7]\n",
    "num_cpy = num.copy()\n",
    "print(num_cpy)"
   ]
  },
  {
   "cell_type": "code",
   "execution_count": 59,
   "metadata": {},
   "outputs": [
    {
     "name": "stdout",
     "output_type": "stream",
     "text": [
      "True\n",
      "False\n"
     ]
    }
   ],
   "source": [
    "#vid 88, is vs ==\n",
    "num1=[1,2,3,4]\n",
    "num2=[1,2,3,4]\n",
    "\n",
    "print(num1 == num2 ) # == will check for the same values\n",
    "print(num1 is num2 ) # is will check for the same location of object"
   ]
  },
  {
   "cell_type": "code",
   "execution_count": 60,
   "metadata": {},
   "outputs": [
    {
     "name": "stdout",
     "output_type": "stream",
     "text": [
      "hasrshit\n",
      "24\n"
     ]
    }
   ],
   "source": [
    "#vid 89\n",
    "# split method - it will convert list in string\n",
    "name,age = 'Ashish,24'.split(',')\n",
    "print(name)\n",
    "print(age)"
   ]
  },
  {
   "cell_type": "code",
   "execution_count": 6,
   "metadata": {},
   "outputs": [
    {
     "data": {
      "text/plain": [
       "\"AShish's age is 24\""
      ]
     },
     "execution_count": 6,
     "metadata": {},
     "output_type": "execute_result"
    }
   ],
   "source": [
    "#join method - it convert list to string\n",
    "user_info = ['AShish','24']\n",
    "\"'s age is \".join(user_info)"
   ]
  },
  {
   "cell_type": "code",
   "execution_count": 65,
   "metadata": {},
   "outputs": [],
   "source": [
    "# vid 90, list vs array\n",
    "\n",
    "# array can have same data types , we used in c,c++,java\n",
    "\n",
    "#list can store any data type \n",
    "\n",
    "#python have array module - fix data type and it is faster tha list but we dont use it\n",
    "\n",
    "# numpy array - binding with c librfaries\n",
    "\n",
    "# javascript array is like python list"
   ]
  },
  {
   "cell_type": "code",
   "execution_count": 11,
   "metadata": {},
   "outputs": [
    {
     "data": {
      "text/plain": [
       "'String'"
      ]
     },
     "execution_count": 11,
     "metadata": {},
     "output_type": "execute_result"
    }
   ],
   "source": [
    "#vid 90\n",
    "# string vs List\n",
    "\n",
    "# string are immutable\n",
    "# list are mutable\n",
    "\n",
    "s= \"string\"\n",
    "s.title() #it will not coverte for permanent"
   ]
  },
  {
   "cell_type": "code",
   "execution_count": 13,
   "metadata": {},
   "outputs": [
    {
     "name": "stdout",
     "output_type": "stream",
     "text": [
      "string\n"
     ]
    }
   ],
   "source": [
    "print(s) #here s is still small\n",
    "#but if  store the change into another variable then it variable will not be small s, it means string variable is mutable "
   ]
  },
  {
   "cell_type": "code",
   "execution_count": 72,
   "metadata": {},
   "outputs": [
    {
     "name": "stdout",
     "output_type": "stream",
     "text": [
      "[1, 2, 3]\n"
     ]
    }
   ],
   "source": [
    "l=[1,2,3,4]\n",
    "l.pop() #it will permanent change\n",
    "print(l)"
   ]
  },
  {
   "cell_type": "code",
   "execution_count": 74,
   "metadata": {},
   "outputs": [
    {
     "name": "stdout",
     "output_type": "stream",
     "text": [
      "apple\n",
      "orange\n",
      "banana\n",
      "pear\n"
     ]
    }
   ],
   "source": [
    "# vid 92, looping in list\n",
    "fruits= ['apple','orange','banana',\"pear\"]\n",
    "\n",
    "for i in fruits:\n",
    "    print(i)"
   ]
  },
  {
   "cell_type": "code",
   "execution_count": 75,
   "metadata": {},
   "outputs": [
    {
     "name": "stdout",
     "output_type": "stream",
     "text": [
      "apple\n",
      "orange\n",
      "banana\n",
      "pear\n"
     ]
    }
   ],
   "source": [
    "fruits= ['apple','orange','banana',\"pear\"]\n",
    "i=0\n",
    "while i < len(fruits):\n",
    "    print(fruits[i])\n",
    "    \n",
    "    i+=1"
   ]
  },
  {
   "cell_type": "code",
   "execution_count": 15,
   "metadata": {},
   "outputs": [
    {
     "name": "stdout",
     "output_type": "stream",
     "text": [
      "element :  8\n",
      "1\n",
      "2\n",
      "3\n",
      "4\n",
      "5\n",
      "6\n",
      "7\n",
      "8\n",
      "9\n"
     ]
    }
   ],
   "source": [
    "#vid 93 , list inside list\n",
    "matrix = [[1,2,3],[4,5,6],[7,8,9]]\n",
    "#this matrix has three items i.e three list\n",
    "#for reaching in 1-9 we have to put two for loop\n",
    "\n",
    "print(\"element : \",matrix[2][1])\n",
    "for i in matrix:\n",
    "    for j in i:\n",
    "        print(j) \n",
    "        \n"
   ]
  },
  {
   "cell_type": "code",
   "execution_count": 89,
   "metadata": {},
   "outputs": [
    {
     "name": "stdout",
     "output_type": "stream",
     "text": [
      "[1, 2, 3, 4, 5, 6, 7, 8, 9, 10]\n"
     ]
    }
   ],
   "source": [
    "#vid 84\n",
    "#generate list using range\n",
    "numbers = list(range(1,11))\n",
    "print(numbers)"
   ]
  },
  {
   "cell_type": "code",
   "execution_count": 90,
   "metadata": {},
   "outputs": [
    {
     "name": "stdout",
     "output_type": "stream",
     "text": [
      "10\n"
     ]
    }
   ],
   "source": [
    "#pop method also return the value \n",
    "num= [1, 2, 3, 4, 5, 6, 7, 8, 9, 10]\n",
    "popped_item=num.pop()\n",
    "print(popped_item)"
   ]
  },
  {
   "cell_type": "code",
   "execution_count": 102,
   "metadata": {},
   "outputs": [
    {
     "data": {
      "text/plain": [
       "[-1, -2, -3, -4, -5, -6, -7, -8, -9, -10]"
      ]
     },
     "execution_count": 102,
     "metadata": {},
     "output_type": "execute_result"
    }
   ],
   "source": [
    "#pass list to a function\n",
    "num= [1, 2, 3, 4, 5, 6, 7, 8, 9, 10]\n",
    "def negative_list(l):\n",
    "    negative = []\n",
    "    for i in l :\n",
    "        negative.append(-i)\n",
    "    return  negative\n",
    "\n",
    "negative_list(num)"
   ]
  },
  {
   "cell_type": "code",
   "execution_count": 105,
   "metadata": {},
   "outputs": [
    {
     "data": {
      "text/plain": [
       "[1, 4, 9, 16, 25, 36, 49, 64, 81, 100]"
      ]
     },
     "execution_count": 105,
     "metadata": {},
     "output_type": "execute_result"
    }
   ],
   "source": [
    "#exercise 1 \n",
    "num= [1, 2, 3, 4, 5, 6, 7, 8, 9, 10]\n",
    "def square_list(l):\n",
    "    sqlist=[]\n",
    "    for i in l:\n",
    "        sqlist.append(i*i)\n",
    "        \n",
    "    return sqlist\n",
    "square_list(num)"
   ]
  },
  {
   "cell_type": "code",
   "execution_count": 115,
   "metadata": {},
   "outputs": [
    {
     "data": {
      "text/plain": [
       "[6, 7, 5, 3, 1]"
      ]
     },
     "execution_count": 115,
     "metadata": {},
     "output_type": "execute_result"
    }
   ],
   "source": [
    "#exercise 2\n",
    "num= [1,3,5,7,6]\n",
    "def rev_list(l):\n",
    "    revlist=[]\n",
    "    for i in range(len(l)):\n",
    "        t=l.pop()\n",
    "        revlist.append(t)\n",
    "        \n",
    "        \n",
    "    return revlist\n",
    "rev_list(num)"
   ]
  },
  {
   "cell_type": "code",
   "execution_count": 126,
   "metadata": {},
   "outputs": [
    {
     "data": {
      "text/plain": [
       "['cba', 'vut', 'zyx']"
      ]
     },
     "execution_count": 126,
     "metadata": {},
     "output_type": "execute_result"
    }
   ],
   "source": [
    "#exercise 3 \n",
    "#define a function that take list of words as args and return list with reverse of every element in that list\n",
    "l=['abc','tuv','xyz']\n",
    "\n",
    "def rev(l):\n",
    "    l1=[]\n",
    "    l2=[]\n",
    "    for i in l:\n",
    "        l1.append(i[::-1])\n",
    "            \n",
    "    return l1\n",
    "rev(l)"
   ]
  },
  {
   "cell_type": "code",
   "execution_count": 128,
   "metadata": {},
   "outputs": [
    {
     "data": {
      "text/plain": [
       "([1, 3, 5, 7, 9], [2, 4, 6, 8, 10])"
      ]
     },
     "execution_count": 128,
     "metadata": {},
     "output_type": "execute_result"
    }
   ],
   "source": [
    "#exercise 4 \n",
    "num= [1, 2, 3, 4, 5, 6, 7, 8, 9, 10]\n",
    "def oddeven(l):\n",
    "    o=[]\n",
    "    e=[]\n",
    "    for i in l:\n",
    "        if i%2==0:\n",
    "            e.append(i)\n",
    "        else:\n",
    "            o.append(i)\n",
    "        \n",
    "    return o,e\n",
    "oddeven(num)"
   ]
  },
  {
   "cell_type": "code",
   "execution_count": 129,
   "metadata": {},
   "outputs": [
    {
     "data": {
      "text/plain": [
       "[1, 2]"
      ]
     },
     "execution_count": 129,
     "metadata": {},
     "output_type": "execute_result"
    }
   ],
   "source": [
    "#exercise 5\n",
    "l1=[1,2,5,8]\n",
    "l2=[1,2,7,6]\n",
    "\n",
    "def filter(a,b):\n",
    "    l3=[]\n",
    "    for i in l1:\n",
    "        for j in l2:\n",
    "            if i==j:\n",
    "                l3.append(i)\n",
    "    return l3\n",
    "filter(l1,l2)\n",
    "                \n",
    "    \n"
   ]
  },
  {
   "cell_type": "code",
   "execution_count": 130,
   "metadata": {},
   "outputs": [
    {
     "name": "stdout",
     "output_type": "stream",
     "text": [
      "1\n",
      "8\n"
     ]
    }
   ],
   "source": [
    "# vid 105 ,  min and max\n",
    "num=[1,2,5,6,8]\n",
    "print(min(num))\n",
    "print(max(num))"
   ]
  },
  {
   "cell_type": "code",
   "execution_count": 131,
   "metadata": {},
   "outputs": [
    {
     "data": {
      "text/plain": [
       "2"
      ]
     },
     "execution_count": 131,
     "metadata": {},
     "output_type": "execute_result"
    }
   ],
   "source": [
    "#exercise 6\n",
    "l=[1,2,3,[1,2,5],[5,3,6]]\n",
    "def check(l):\n",
    "    count=0\n",
    "    for i in l:\n",
    "        if type(i) == list:\n",
    "            count+=1\n",
    "    return count\n",
    "check(l)"
   ]
  },
  {
   "cell_type": "code",
   "execution_count": 19,
   "metadata": {},
   "outputs": [
    {
     "data": {
      "text/plain": [
       "'1,2'"
      ]
     },
     "execution_count": 19,
     "metadata": {},
     "output_type": "execute_result"
    }
   ],
   "source": [
    "l=[\"1\",\"2\"]\n",
    "\",\".join(l)"
   ]
  },
  {
   "cell_type": "code",
   "execution_count": null,
   "metadata": {},
   "outputs": [],
   "source": []
  },
  {
   "cell_type": "code",
   "execution_count": null,
   "metadata": {},
   "outputs": [],
   "source": []
  }
 ],
 "metadata": {
  "kernelspec": {
   "display_name": "Python 3",
   "language": "python",
   "name": "python3"
  },
  "language_info": {
   "codemirror_mode": {
    "name": "ipython",
    "version": 3
   },
   "file_extension": ".py",
   "mimetype": "text/x-python",
   "name": "python",
   "nbconvert_exporter": "python",
   "pygments_lexer": "ipython3",
   "version": "3.6.8"
  }
 },
 "nbformat": 4,
 "nbformat_minor": 4
}
