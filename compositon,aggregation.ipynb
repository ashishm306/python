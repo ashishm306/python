{
 "cells": [
  {
   "cell_type": "code",
   "execution_count": 1,
   "metadata": {},
   "outputs": [
    {
     "name": "stdout",
     "output_type": "stream",
     "text": [
      "190000\n"
     ]
    }
   ],
   "source": [
    "#Python Tutorial for Beginners 33 - Python Composition by programmingKnowledge\n",
    "#Composition allows us to delegate some responsibility from one class to another class.\n",
    "#In Class Composition one class acts like a Container and other acts like a content. \n",
    "#Composition represents \"part-of\" relationship.When there is a composition between two Python classes , \n",
    "#the content object cannot exist without the container object.\n",
    "#there is not, is are relation between salary and employe (employee is not a salary and salary is not a employee ) so \n",
    "#we cannot apply inheritance \n",
    "#in composition relation is part-of\n",
    "class Salary:\n",
    "    def __init__(self,pay,bonus):\n",
    "        self.pay = pay\n",
    "        self.bonus = bonus\n",
    "    def annual_salary(self):\n",
    "        return (self.pay*12) + self.bonus\n",
    "class Employee: #container\n",
    "    def __init__(self,name,age,pay,bonus):\n",
    "        self.name = name\n",
    "        self.age = age\n",
    "        self.obj_salary = Salary(pay,bonus) #content ,instantiating salary in employee class\n",
    "        \n",
    "    def total_salary(self):\n",
    "        return self.obj_salary.annual_salary()\n",
    "emp = Employee('mac',25,15000,10000)\n",
    "print(emp.total_salary())\n",
    "#when you delete employee , salary will a"
   ]
  },
  {
   "cell_type": "code",
   "execution_count": 4,
   "metadata": {},
   "outputs": [
    {
     "name": "stdout",
     "output_type": "stream",
     "text": [
      "190000\n"
     ]
    }
   ],
   "source": [
    "#Python Tutorial for Beginners 34 - Python Aggregation + Difference in Aggregation and Composition\\\n",
    "#ggregation  has a unidirectional association i.e. a one way relationship \n",
    "#between associated classes(only salary can be pass in employee vice versa is not true) In Aggregation, \n",
    "#both the associate class objects can survive individually.\n",
    "#aggregation represents Has-a relationship\n",
    "class Salary:\n",
    "    def __init__(self,pay,bonus):\n",
    "        self.pay = pay\n",
    "        self.bonus = bonus\n",
    "    def annual_salary(self):\n",
    "        return (self.pay*12) + self.bonus\n",
    "class Employee: #container\n",
    "    def __init__(self,name,age,salary): #st-2 passing salary instance\n",
    "        self.name = name\n",
    "        self.age = age\n",
    "        self.obj_salary = salary #st-3 using salary instance\n",
    "        \n",
    "    def total_salary(self):\n",
    "        return self.obj_salary.annual_salary()\n",
    "    \n",
    "salary = Salary(15000,10000) #st-1 , creating salary instance , these 3 steps process is called aggregation\n",
    "emp = Employee('mac',25,salary)#object pass kia\n",
    "print(emp.total_salary())"
   ]
  },
  {
   "cell_type": "code",
   "execution_count": null,
   "metadata": {},
   "outputs": [],
   "source": []
  }
 ],
 "metadata": {
  "kernelspec": {
   "display_name": "Python 3",
   "language": "python",
   "name": "python3"
  },
  "language_info": {
   "codemirror_mode": {
    "name": "ipython",
    "version": 3
   },
   "file_extension": ".py",
   "mimetype": "text/x-python",
   "name": "python",
   "nbconvert_exporter": "python",
   "pygments_lexer": "ipython3",
   "version": "3.6.8"
  }
 },
 "nbformat": 4,
 "nbformat_minor": 4
}
