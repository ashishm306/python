{
 "cells": [
  {
   "cell_type": "code",
   "execution_count": 1,
   "metadata": {},
   "outputs": [
    {
     "name": "stdout",
     "output_type": "stream",
     "text": [
      "line\n"
     ]
    }
   ],
   "source": [
    "#check empty or not\n",
    "name='abc'\n",
    "if name: #true if string is not empty\n",
    "    print(\"line\")\n",
    "else:\n",
    "    print(\"string is empty\")"
   ]
  },
  {
   "cell_type": "code",
   "execution_count": 2,
   "metadata": {},
   "outputs": [
    {
     "name": "stdout",
     "output_type": "stream",
     "text": [
      "enter your name\n",
      "string is empty\n"
     ]
    }
   ],
   "source": [
    "name= input(\"enter your name\")\n",
    "if name :\n",
    "    print(f\"your name is {name}\")\n",
    "else:\n",
    "    print(\"string is empty\")"
   ]
  },
  {
   "cell_type": "code",
   "execution_count": 2,
   "metadata": {},
   "outputs": [
    {
     "name": "stdout",
     "output_type": "stream",
     "text": [
      "enter a num :555\n",
      "5\n",
      "10\n",
      "15\n"
     ]
    }
   ],
   "source": [
    "a=input(\"enter a num :\")\n",
    "s=0\n",
    "for i in a:\n",
    "    for j in i:\n",
    "        s=s+int(j)\n",
    "    print(s)"
   ]
  },
  {
   "cell_type": "code",
   "execution_count": 1,
   "metadata": {},
   "outputs": [
    {
     "name": "stdout",
     "output_type": "stream",
     "text": [
      "enter your name : ashish\n",
      "a : 1\n",
      "s : 2\n",
      "h : 2\n",
      "i : 1\n"
     ]
    }
   ],
   "source": [
    "name=input(\"enter your name : \")\n",
    "i=0\n",
    "temp=\"\"\n",
    "while i < len(name):\n",
    "    if name[i] not in temp:\n",
    "        temp+=name[i]\n",
    "        print(f'{name[i]} : {name.count(name[i])}')\n",
    "    i+=1\n",
    "    "
   ]
  },
  {
   "cell_type": "code",
   "execution_count": null,
   "metadata": {},
   "outputs": [],
   "source": [
    "print(\"A\")"
   ]
  },
  {
   "cell_type": "code",
   "execution_count": null,
   "metadata": {},
   "outputs": [],
   "source": []
  }
 ],
 "metadata": {
  "kernelspec": {
   "display_name": "Python 3",
   "language": "python",
   "name": "python3"
  },
  "language_info": {
   "codemirror_mode": {
    "name": "ipython",
    "version": 3
   },
   "file_extension": ".py",
   "mimetype": "text/x-python",
   "name": "python",
   "nbconvert_exporter": "python",
   "pygments_lexer": "ipython3",
   "version": "3.6.8"
  }
 },
 "nbformat": 4,
 "nbformat_minor": 4
}
