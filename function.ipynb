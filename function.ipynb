{
 "cells": [
  {
   "cell_type": "code",
   "execution_count": 1,
   "metadata": {},
   "outputs": [
    {
     "data": {
      "text/plain": [
       "6"
      ]
     },
     "execution_count": 1,
     "metadata": {},
     "output_type": "execute_result"
    }
   ],
   "source": [
    "#function\n",
    "name=\"Ashish\"\n",
    "len(name)"
   ]
  },
  {
   "cell_type": "code",
   "execution_count": 4,
   "metadata": {},
   "outputs": [
    {
     "name": "stdout",
     "output_type": "stream",
     "text": [
      "6\n"
     ]
    }
   ],
   "source": [
    "#defining function\n",
    "def add_two(a,b):\n",
    "    return a+b #sirf return likhne se output nahi dega ,jupyter me dera h bass\n",
    "print(add_two(5,1)) #ya phir kisi variable me call karao"
   ]
  },
  {
   "cell_type": "code",
   "execution_count": 8,
   "metadata": {},
   "outputs": [
    {
     "name": "stdout",
     "output_type": "stream",
     "text": [
      "h\n"
     ]
    }
   ],
   "source": [
    "#vid 75\n",
    "def last_char(l):\n",
    "    for i  in l:\n",
    "        pass\n",
    "    return i\n",
    "print(last_char(\"Ashish\"))"
   ]
  },
  {
   "cell_type": "code",
   "execution_count": 12,
   "metadata": {},
   "outputs": [
    {
     "name": "stdout",
     "output_type": "stream",
     "text": [
      "happy birthday song\n"
     ]
    }
   ],
   "source": [
    "#function without parameter\n",
    "\n",
    "def song():\n",
    "    return \"happy birthday song\"\n",
    "print(song())"
   ]
  },
  {
   "cell_type": "code",
   "execution_count": 17,
   "metadata": {},
   "outputs": [
    {
     "name": "stdout",
     "output_type": "stream",
     "text": [
      "4\n"
     ]
    }
   ],
   "source": [
    "#function inside function\n",
    "def greater(a,b):\n",
    "    if a>b:\n",
    "        return a\n",
    "    return b\n",
    "\n",
    "def greatest(a,b,c):\n",
    "    if a>b and a>c :\n",
    "        return a\n",
    "    elif b>a and b>c:\n",
    "        return b\n",
    "    else :\n",
    "        return c\n",
    "#fun inside fun\n",
    "def new_greatest(a,b,c):\n",
    "    bigger = greater(a,b)\n",
    "    return greater(bigger,c)\n",
    "print(new_greatest(1,2,4))\n",
    "\n",
    "#def new_greatest(a,b,c):\n",
    "#     return greater(greater(a,b),c)\n",
    "# print(new_greatest(1,2,4))"
   ]
  },
  {
   "cell_type": "code",
   "execution_count": 26,
   "metadata": {},
   "outputs": [
    {
     "name": "stdout",
     "output_type": "stream",
     "text": [
      "enter a string : ashish\n",
      "not palindrome\n"
     ]
    }
   ],
   "source": [
    "#exercise vid 77\n",
    "string=input(\"enter a string : \")\n",
    "def is_palindrome(s):\n",
    "    t=s[::-1]\n",
    "    if s==t:\n",
    "        return(\"Palindrome\")\n",
    "    return (\"not palindrome\")\n",
    "\n",
    "print(is_palindrome(string))"
   ]
  },
  {
   "cell_type": "code",
   "execution_count": 3,
   "metadata": {},
   "outputs": [
    {
     "name": "stdout",
     "output_type": "stream",
     "text": [
      "[0, 1, 1, 2, 3]\n"
     ]
    }
   ],
   "source": [
    "#fabonacci series\n",
    "def febser(n):\n",
    "    if n==1:\n",
    "        print('0')\n",
    "    elif n==2:\n",
    "        print(\"1\")\n",
    "    else :\n",
    "        l=[0,1]\n",
    "        for i in range(0,n-2):\n",
    "            s=l[i]+l[i+1]\n",
    "            l.append(s)\n",
    "    print(l)\n",
    "        \n",
    "t=febser(5\n",
    "        )\n",
    "    \n",
    "    "
   ]
  },
  {
   "cell_type": "code",
   "execution_count": 38,
   "metadata": {},
   "outputs": [
    {
     "name": "stdout",
     "output_type": "stream",
     "text": [
      "your firstname is ashish\n",
      "your lastname is mishra\n",
      "your age is 25\n"
     ]
    }
   ],
   "source": [
    "#vid 80,  default parameter\n",
    "#default parameter should be written in last \n",
    "#if we pass any value for default parameter it will be update\n",
    "def user_info(firstname,lastname,age=24):\n",
    "    print(f\"your firstname is {firstname}\")\n",
    "    print(f\"your lastname is {lastname}\")\n",
    "    print(f'your age is {age}')\n",
    "user_info(\"ashish\",\"mishra\",25 )"
   ]
  },
  {
   "cell_type": "code",
   "execution_count": null,
   "metadata": {},
   "outputs": [],
   "source": []
  }
 ],
 "metadata": {
  "kernelspec": {
   "display_name": "Python 3",
   "language": "python",
   "name": "python3"
  },
  "language_info": {
   "codemirror_mode": {
    "name": "ipython",
    "version": 3
   },
   "file_extension": ".py",
   "mimetype": "text/x-python",
   "name": "python",
   "nbconvert_exporter": "python",
   "pygments_lexer": "ipython3",
   "version": "3.6.8"
  }
 },
 "nbformat": 4,
 "nbformat_minor": 4
}
