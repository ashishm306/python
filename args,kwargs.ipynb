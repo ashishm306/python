{
 "cells": [
  {
   "cell_type": "raw",
   "metadata": {},
   "source": [
    "# vid 140 #make function flexible \n",
    "*operator\n",
    "*args=it take any lenth of number and make them tuple"
   ]
  },
  {
   "cell_type": "code",
   "execution_count": 1,
   "metadata": {},
   "outputs": [
    {
     "ename": "TypeError",
     "evalue": "total() takes 2 positional arguments but 4 were given",
     "output_type": "error",
     "traceback": [
      "\u001b[1;31m---------------------------------------------------------------------------\u001b[0m",
      "\u001b[1;31mTypeError\u001b[0m                                 Traceback (most recent call last)",
      "\u001b[1;32m<ipython-input-1-0ceefc65c006>\u001b[0m in \u001b[0;36m<module>\u001b[1;34m\u001b[0m\n\u001b[0;32m      1\u001b[0m \u001b[1;32mdef\u001b[0m \u001b[0mtotal\u001b[0m\u001b[1;33m(\u001b[0m\u001b[0ma\u001b[0m\u001b[1;33m,\u001b[0m\u001b[0mb\u001b[0m\u001b[1;33m)\u001b[0m\u001b[1;33m:\u001b[0m\u001b[1;33m\u001b[0m\u001b[1;33m\u001b[0m\u001b[0m\n\u001b[0;32m      2\u001b[0m     \u001b[1;32mreturn\u001b[0m \u001b[0ma\u001b[0m\u001b[1;33m+\u001b[0m\u001b[0mn\u001b[0m\u001b[1;33m\u001b[0m\u001b[1;33m\u001b[0m\u001b[0m\n\u001b[1;32m----> 3\u001b[1;33m \u001b[0mprint\u001b[0m\u001b[1;33m(\u001b[0m\u001b[0mtotal\u001b[0m\u001b[1;33m(\u001b[0m\u001b[1;36m3\u001b[0m\u001b[1;33m,\u001b[0m\u001b[1;36m4\u001b[0m\u001b[1;33m,\u001b[0m\u001b[1;36m10\u001b[0m\u001b[1;33m,\u001b[0m\u001b[1;36m9\u001b[0m\u001b[1;33m)\u001b[0m\u001b[1;33m)\u001b[0m\u001b[1;33m\u001b[0m\u001b[1;33m\u001b[0m\u001b[0m\n\u001b[0m",
      "\u001b[1;31mTypeError\u001b[0m: total() takes 2 positional arguments but 4 were given"
     ]
    }
   ],
   "source": [
    "def total(a,b):\n",
    "    return a+n\n",
    "print(total(3,4,10,9))\n"
   ]
  },
  {
   "cell_type": "code",
   "execution_count": 3,
   "metadata": {},
   "outputs": [
    {
     "name": "stdout",
     "output_type": "stream",
     "text": [
      "1 2 3 4\n",
      "<class 'tuple'>\n"
     ]
    }
   ],
   "source": [
    "def all_total(*args):\n",
    "    print(*args)\n",
    "    print(type(args))\n",
    "all_total(1,2,3,4)"
   ]
  },
  {
   "cell_type": "code",
   "execution_count": 5,
   "metadata": {},
   "outputs": [
    {
     "name": "stdout",
     "output_type": "stream",
     "text": [
      "10\n"
     ]
    }
   ],
   "source": [
    "def all_total(*args):\n",
    "    total = 0\n",
    "    for nums in args :\n",
    "        total+=nums\n",
    "    return total\n",
    "print(all_total(1,2,3,4))"
   ]
  },
  {
   "cell_type": "code",
   "execution_count": 16,
   "metadata": {},
   "outputs": [
    {
     "name": "stdout",
     "output_type": "stream",
     "text": [
      "1\n",
      "(2, 3, 4)\n",
      "24\n"
     ]
    }
   ],
   "source": [
    "#vid 141 *args with normal parameter\n",
    "def multiply_nums(num,*args): #num will contain first number of input and will be written before *args\n",
    "    multiply=1\n",
    "    print(num)\n",
    "    print(args)\n",
    "    for i in args:\n",
    "        multiply*=i\n",
    "    return multiply\n",
    "print(multiply_nums(1,2,3,4))"
   ]
  },
  {
   "cell_type": "code",
   "execution_count": 3,
   "metadata": {},
   "outputs": [
    {
     "name": "stdout",
     "output_type": "stream",
     "text": [
      "24\n"
     ]
    }
   ],
   "source": [
    "#vid 142 ,args as argument(when fun call)\n",
    "def multiply_nums(*args):\n",
    "    multiply=1\n",
    "    for i in args:\n",
    "        multiply*=i\n",
    "    return multiply\n",
    "num=[1,2,3,4]\n",
    "print(multiply_nums(*num)) #ab ye list le lega as a argument"
   ]
  },
  {
   "cell_type": "code",
   "execution_count": 1,
   "metadata": {},
   "outputs": [
    {
     "data": {
      "text/plain": [
       "\"you didn't pass any args\""
      ]
     },
     "execution_count": 1,
     "metadata": {},
     "output_type": "execute_result"
    }
   ],
   "source": [
    "#exercise 1\n",
    "def power(num,*args):\n",
    "    if args:\n",
    "        return  [i**num for i in args]\n",
    "    else:\n",
    "        return \"you didn't pass any args\"\n",
    "l1=[1,2,3]\n",
    "power(3,*l1)"
   ]
  },
  {
   "cell_type": "code",
   "execution_count": 18,
   "metadata": {},
   "outputs": [
    {
     "name": "stdout",
     "output_type": "stream",
     "text": [
      "first_nme:ashish\n",
      "last_name:mishra\n"
     ]
    }
   ],
   "source": [
    "#kwargs (keyword argument)\n",
    "# **kwargs(double star argument)\n",
    "# it is of dict type\n",
    "#kwargs as a paramenter\n",
    "\n",
    "def func(**kwargs):\n",
    "    for k,v in kwargs.items():\n",
    "        print(f\"{k}:{v}\")\n",
    "func(first_nme=\"ashish\",last_name = \"mishra\")"
   ]
  },
  {
   "cell_type": "code",
   "execution_count": 3,
   "metadata": {},
   "outputs": [
    {
     "name": "stdout",
     "output_type": "stream",
     "text": [
      "first_nme:ashish\n",
      "last_name :mishra\n",
      "age:24\n"
     ]
    }
   ],
   "source": [
    "#dictionary unpacking\n",
    "def func(**kwargs):\n",
    "    for k,v in kwargs.items():\n",
    "        print(f\"{k}:{v}\")\n",
    "        \n",
    "d={\"first_nme\":\"ashish\",\"last_name \": \"mishra\",\"age\" : 24}\n",
    "func(**d) #unpack by**d\n"
   ]
  },
  {
   "cell_type": "code",
   "execution_count": null,
   "metadata": {},
   "outputs": [],
   "source": [
    "k={\"first_nme\":\"ashish\",\"last_name \": \"mishra\",\"age\" : 24}\n",
    "def all_total(**k):\n",
    "    print(**k)\n",
    "    print(type(k))\n",
    "all_total(1,2,3,4)\n",
    "print(type(k))"
   ]
  },
  {
   "cell_type": "code",
   "execution_count": 22,
   "metadata": {},
   "outputs": [],
   "source": [
    "#order of parameter #PADK\n",
    "#parameter\n",
    "#args\n",
    "#default parameter\n",
    "#kwargs"
   ]
  },
  {
   "cell_type": "code",
   "execution_count": 51,
   "metadata": {},
   "outputs": [
    {
     "name": "stdout",
     "output_type": "stream",
     "text": [
      "['Hsihsa', 'Arhsim']\n"
     ]
    }
   ],
   "source": [
    "def revT(args,**kwargs):\n",
    "    if kwargs.get(\"reverse_str\") == False:\n",
    "        return [ i.title() for i in args ]\n",
    "    return [i[::-1].title() for i in args ]\n",
    "l=['ashish','mishra']\n",
    "print(revT(l,reverse_str = True))"
   ]
  },
  {
   "cell_type": "code",
   "execution_count": 27,
   "metadata": {},
   "outputs": [
    {
     "data": {
      "text/plain": [
       "'Shish'"
      ]
     },
     "execution_count": 27,
     "metadata": {},
     "output_type": "execute_result"
    }
   ],
   "source": [
    "s=\"shish\"\n",
    "s.title()"
   ]
  },
  {
   "cell_type": "code",
   "execution_count": 6,
   "metadata": {},
   "outputs": [
    {
     "ename": "SyntaxError",
     "evalue": "invalid syntax (<ipython-input-6-36d9cdf5b24d>, line 1)",
     "output_type": "error",
     "traceback": [
      "\u001b[1;36m  File \u001b[1;32m\"<ipython-input-6-36d9cdf5b24d>\"\u001b[1;36m, line \u001b[1;32m1\u001b[0m\n\u001b[1;33m    def a(c,*n,*n1):\u001b[0m\n\u001b[1;37m               ^\u001b[0m\n\u001b[1;31mSyntaxError\u001b[0m\u001b[1;31m:\u001b[0m invalid syntax\n"
     ]
    }
   ],
   "source": [
    "def a(c,*n,*n1):\n",
    "    \n",
    "    \n",
    "    pass\n",
    "a(\"brown\",\"fluffy\",\"snow\")"
   ]
  },
  {
   "cell_type": "code",
   "execution_count": 3,
   "metadata": {},
   "outputs": [
    {
     "ename": "SyntaxError",
     "evalue": "starred assignment target must be in a list or tuple (<ipython-input-3-91550b61b169>, line 4)",
     "output_type": "error",
     "traceback": [
      "\u001b[1;36m  File \u001b[1;32m\"<ipython-input-3-91550b61b169>\"\u001b[1;36m, line \u001b[1;32m4\u001b[0m\n\u001b[1;31mSyntaxError\u001b[0m\u001b[1;31m:\u001b[0m starred assignment target must be in a list or tuple\n"
     ]
    }
   ],
   "source": [
    "*l=[1,2,3]\n",
    "p=l\n",
    "print(p)"
   ]
  },
  {
   "cell_type": "code",
   "execution_count": null,
   "metadata": {},
   "outputs": [],
   "source": []
  }
 ],
 "metadata": {
  "kernelspec": {
   "display_name": "Python 3",
   "language": "python",
   "name": "python3"
  },
  "language_info": {
   "codemirror_mode": {
    "name": "ipython",
    "version": 3
   },
   "file_extension": ".py",
   "mimetype": "text/x-python",
   "name": "python",
   "nbconvert_exporter": "python",
   "pygments_lexer": "ipython3",
   "version": "3.6.8"
  }
 },
 "nbformat": 4,
 "nbformat_minor": 4
}
