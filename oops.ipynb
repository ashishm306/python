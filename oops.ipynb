{
 "cells": [
  {
   "cell_type": "code",
   "execution_count": 17,
   "metadata": {},
   "outputs": [
    {
     "name": "stdout",
     "output_type": "stream",
     "text": [
      "AAshish\n"
     ]
    }
   ],
   "source": [
    "class Person:\n",
    "    def __init__(self,first_name,last_name,age):   #constructor in other programming language\n",
    "        #instance variable\n",
    "        self.first_name=first_name\n",
    "        self.last_name=last_name\n",
    "        self.age=age\n",
    "p1=Person('AAshish','Mishra',24)\n",
    "p2=Person('deepak','kalal',34)\n",
    "\n",
    "print(p1.first_name)\n"
   ]
  },
  {
   "cell_type": "code",
   "execution_count": 18,
   "metadata": {},
   "outputs": [
    {
     "name": "stdout",
     "output_type": "stream",
     "text": [
      "init method//constructor get called\n",
      "init method//constructor get called\n",
      "Ashish Mishra\n"
     ]
    }
   ],
   "source": [
    "class Person:\n",
    "    def __init__(self,first_name,last_name,age):   #constructor in other programming language\n",
    "        #instance variable\n",
    "        print(\"init method//constructor get called\")\n",
    "        self.first_name=first_name\n",
    "        self.last_name=last_name\n",
    "        self.age=age\n",
    "        self.full_name = first_name+\" \"+last_name\n",
    "p1=Person('Ashish','Mishra',24)\n",
    "p2=Person('deepak','kalal',34)\n",
    "\n",
    "print(p1.full_name)\n",
    "\n"
   ]
  },
  {
   "cell_type": "code",
   "execution_count": 31,
   "metadata": {},
   "outputs": [
    {
     "name": "stdout",
     "output_type": "stream",
     "text": [
      "Abhi Mishra\n",
      "Abhi Mishra\n"
     ]
    }
   ],
   "source": [
    "#vid187\n",
    "#instance method\n",
    "class Person:\n",
    "    def __init__(self,first_name,last_name,age):  \n",
    "        self.first_name=first_name\n",
    "        self.last_name=last_name\n",
    "        self.age=age\n",
    "    def full_name(self):\n",
    "        return f\"{self.first_name} {self.last_name}\"\n",
    "    \n",
    "p5=Person('Abhi','Mishra',24)\n",
    "\n",
    "print(p5.full_name())\n",
    "print(Person.full_name(p5)) #13,14 line same hai 14 line 13 ka execution hai"
   ]
  },
  {
   "cell_type": "code",
   "execution_count": 43,
   "metadata": {},
   "outputs": [
    {
     "name": "stdout",
     "output_type": "stream",
     "text": [
      "5000\n",
      "2500.0\n"
     ]
    }
   ],
   "source": [
    "class Laptop:\n",
    "    def __init__(self,brand,model_name,price):\n",
    "        self.brand=brand\n",
    "        self.name=model_name\n",
    "        self.price=price\n",
    "        self.laptop_name=brand+' '+model_name\n",
    "\n",
    "    def disc(self,price) :\n",
    "        off_price=self.price*(price/100)\n",
    "        return self.price - off_price\n",
    "l1=Laptop('hp','pavallion',5000)\n",
    "print(l1.price)\n",
    "print(l1.disc(50))"
   ]
  },
  {
   "cell_type": "code",
   "execution_count": 49,
   "metadata": {},
   "outputs": [
    {
     "name": "stdout",
     "output_type": "stream",
     "text": [
      "25.12\n"
     ]
    }
   ],
   "source": [
    "#class variable or class attribute - when there is some constant value we can use class variable for that \n",
    "\n",
    "class Circle:\n",
    "    def __init__(self,radius,pi):\n",
    "        self.radius= radius\n",
    "        self.pi=pi\n",
    "    def calc_circumference(self):\n",
    "        return 2*self.pi*self.radius\n",
    "    \n",
    "c=Circle(4,3.14)\n",
    "c1=Circle(5,3.14)\n",
    "print(c.calc_circumference())"
   ]
  },
  {
   "cell_type": "code",
   "execution_count": 50,
   "metadata": {},
   "outputs": [
    {
     "name": "stdout",
     "output_type": "stream",
     "text": [
      "25.12\n"
     ]
    }
   ],
   "source": [
    "\n",
    "class Circle:\n",
    "    pi=3.14 #class variable\n",
    "    def __init__(self,radius):\n",
    "        self.radius= radius\n",
    "    def calc_circumference(self):\n",
    "        return 2*Circle.pi*self.radius\n",
    "    \n",
    "c=Circle(4)\n",
    "c1=Circle(5)\n",
    "print(c.calc_circumference())"
   ]
  },
  {
   "cell_type": "code",
   "execution_count": 69,
   "metadata": {},
   "outputs": [
    {
     "name": "stdout",
     "output_type": "stream",
     "text": [
      "2\n"
     ]
    }
   ],
   "source": [
    "\n",
    "class Person:\n",
    "    count_instance=0\n",
    "    def __init__(self,first_name,last_name,age):   #constructor in other programming language\n",
    "        #instance variable\n",
    "        \n",
    "        Person.count_instance+=1\n",
    "        self.first_name=first_name\n",
    "        self.last_name=last_name\n",
    "        self.age=age\n",
    "p1=Person('AAshish','Mishra',24)\n",
    "p1=Person('deepak','kalal',34)\n",
    "\n",
    "print(Person.count_instance)\n"
   ]
  },
  {
   "cell_type": "code",
   "execution_count": 72,
   "metadata": {},
   "outputs": [
    {
     "name": "stdout",
     "output_type": "stream",
     "text": [
      "you have created 2 of Person class\n"
     ]
    }
   ],
   "source": [
    "#class method\n",
    "#difference between class method and instance method\n",
    "class Person:\n",
    "    count_instance=0\n",
    "    def __init__(self,first_name,last_name,age):   #constructor in other programming language\n",
    "        #instance variable\n",
    "        \n",
    "        Person.count_instance+=1\n",
    "        self.first_name=first_name\n",
    "        self.last_name=last_name\n",
    "        self.age=age\n",
    "    @classmethod\n",
    "    def count_instances(cls):\n",
    "        return f\"you have created {cls.count_instance} of Person class\"\n",
    "p1=Person('AAshish','Mishra',24)\n",
    "p1=Person('deepak','kalal',34)\n",
    "\n",
    "print(Person.count_instances())\n"
   ]
  },
  {
   "cell_type": "code",
   "execution_count": 78,
   "metadata": {},
   "outputs": [
    {
     "name": "stdout",
     "output_type": "stream",
     "text": [
      "deepak7 kalal\n"
     ]
    }
   ],
   "source": [
    "#class method as a constructor vid 195\n",
    "class Person:\n",
    "    \n",
    "    def __init__(self,first_name,last_name,age):   #constructor in other programming language\n",
    "        #instance variable\n",
    "        \n",
    "        \n",
    "        self.first_name=first_name\n",
    "        self.last_name=last_name\n",
    "        self.age=age\n",
    "        self.full_name = first_name+\" \"+last_name\n",
    "    @classmethod\n",
    "    def from_string(cls,string):\n",
    "        first,last,age=string.split(',')\n",
    "        return cls(first,last,age)\n",
    "p7=Person.from_string('deepak7,kalal,34')\n",
    "print(p7.full_name)"
   ]
  },
  {
   "cell_type": "code",
   "execution_count": 81,
   "metadata": {},
   "outputs": [
    {
     "name": "stdout",
     "output_type": "stream",
     "text": [
      "hello static method called\n"
     ]
    }
   ],
   "source": [
    "#static method: when we don't want to pass any argument in method\n",
    "class Person:\n",
    "    \n",
    "    def __init__(self,first_name,last_name,age):   #constructor in other programming language\n",
    "        #instance variable\n",
    "        \n",
    "        \n",
    "        self.first_name=first_name\n",
    "        self.last_name=last_name\n",
    "        self.age=age\n",
    "        self.full_name = first_name+\" \"+last_name\n",
    "    @staticmethod\n",
    "    def hello():\n",
    "        print(\"hello static method called\")\n",
    "Person.hello()"
   ]
  },
  {
   "cell_type": "code",
   "execution_count": null,
   "metadata": {},
   "outputs": [],
   "source": [
    "#_name is convention for private\n",
    "#__name__ dunder/magic method\n",
    "# we use single underscore to show that it is private but there is nothing private in python\n",
    "#name mangling(__name) double underscore se python apne aap class ka naam add karke variable ka naam add kar deta hai"
   ]
  },
  {
   "cell_type": "code",
   "execution_count": null,
   "metadata": {},
   "outputs": [],
   "source": [
    "#encapsulation-ek class me hi saare method define kar dena"
   ]
  },
  {
   "cell_type": "code",
   "execution_count": null,
   "metadata": {},
   "outputs": [],
   "source": [
    "#Abstraction-jab tak encapsulation nahi hogi tab tak abstraction nahi hogi,\n",
    "#list me sort hota hai l.sort se lekin hame pata nahi ki sorting kese hori hai and second hamara calculator wala program"
   ]
  },
  {
   "cell_type": "code",
   "execution_count": null,
   "metadata": {},
   "outputs": [],
   "source": [
    "#inheritance"
   ]
  },
  {
   "cell_type": "code",
   "execution_count": 8,
   "metadata": {},
   "outputs": [
    {
     "name": "stdout",
     "output_type": "stream",
     "text": [
      "nokia 1100\n",
      "oneplus s\n"
     ]
    }
   ],
   "source": [
    "class Phone:#base class\n",
    "    def __init__(self,brand,model_name,price):\n",
    "        self.brand=brand\n",
    "        self.model_name=model_name\n",
    "        self.price=max(price,0)\n",
    "        \n",
    "    def full_name(self):\n",
    "        return f\"{self.brand} {self.model_name}\"\n",
    "class Smartphone: \n",
    "    def __init__(self,brand,model_name,price,ram,internal_memory,rear_camera):\n",
    "        self.brand=brand\n",
    "        self.model_name=model_name\n",
    "        self.price=max(price,0)\n",
    "        self.ram=ram\n",
    "        self.internal_memory=internal_memory\n",
    "        self.rear_camera=rear_camera\n",
    "    def full_name(self):\n",
    "        return f\"{self.brand} {self.model_name}\"\n",
    "    \n",
    "phone = Phone('nokia','1100',1000)\n",
    "smartphone=Smartphone('oneplus','s',30000,'6 gb' ,'64 gb0','20 MP')\n",
    "print(phone.full_name())\n",
    "print(smartphone.full_name())\n",
    "            "
   ]
  },
  {
   "cell_type": "code",
   "execution_count": 2,
   "metadata": {},
   "outputs": [
    {
     "name": "stdout",
     "output_type": "stream",
     "text": [
      "nokia 1100\n",
      "oneplus s\n"
     ]
    }
   ],
   "source": [
    "#single inheritance\n",
    "class Phone:#base class\n",
    "    def __init__(self,brand,model_name,price):\n",
    "        self.brand=brand\n",
    "        self.model_name=model_name\n",
    "        self.price=max(price,0)\n",
    "        \n",
    "    def full_name(self):\n",
    "        return f\"{self.brand} {self.model_name}\"\n",
    "class Smartphone(Phone): #derived class\n",
    "    def __init__(self,brand,model_name,price,ram,internal_memory,rear_camera):\n",
    "        super().__init__(brand,model_name,price) #uper se value extract krne k lie\n",
    "        self.ram=ram\n",
    "        self.internal_memory=internal_memory\n",
    "        self.rear_camera=rear_camera\n",
    "    \n",
    "phone = Phone('nokia','1100',1000)\n",
    "smartphone=Smartphone('oneplus','s',30000,'6 gb' ,'64 gb0','20 MP')\n",
    "print(phone.full_name())\n",
    "print(smartphone.full_name())\n",
    "            "
   ]
  },
  {
   "cell_type": "code",
   "execution_count": 22,
   "metadata": {},
   "outputs": [
    {
     "name": "stdout",
     "output_type": "stream",
     "text": [
      "nokia 1100\n",
      "yes\n"
     ]
    }
   ],
   "source": [
    "#can we derive more than one class from base class\n",
    "#phone wali class hi pass karenge sabme\n",
    "\n",
    "class Phone:#base class\n",
    "    def __init__(self,brand,model_name,price):\n",
    "        self.brand=brand\n",
    "        self.model_name=model_name\n",
    "        self.price=max(price,0)\n",
    "        \n",
    "    def full_name(self):\n",
    "        return f\"{self.brand} {self.model_name}\"\n",
    "class Smartphone(Phone): #derived class\n",
    "    def __init__(self,brand,model_name,price,ram,internal_memory,rear_camera):\n",
    "        super().__init__(brand,model_name,price) #uper se value extract krne k lie\n",
    "        self.ram=ram\n",
    "        self.internal_memory=internal_memory\n",
    "        self.rear_camera=rear_camera\n",
    "        \n",
    "class Smartphone2(Phone): #derived class\n",
    "    def __init__(self,brand,model_name,price,lock):\n",
    "        super().__init__(brand,model_name,price) #uper se value extract krne k lie\n",
    "       \n",
    "        self.lock=lock\n",
    "phone = Phone('nokia','1100',1000)\n",
    "smartphone=Smartphone2('oneplus','s',30000,\"yes\")\n",
    "print(phone.full_name())\n",
    "print(smartphone.lock)\n",
    "            "
   ]
  },
  {
   "cell_type": "code",
   "execution_count": 3,
   "metadata": {},
   "outputs": [
    {
     "name": "stdout",
     "output_type": "stream",
     "text": [
      "nokia 1100\n",
      "yes\n",
      "True\n",
      "True\n",
      "True\n"
     ]
    }
   ],
   "source": [
    "#multilevel inheritance\n",
    "#koi dusri class bhi pass kar sakte h base k alawa\n",
    "\n",
    "class Phone:#base class \n",
    "    def __init__(self,brand,model_name,price):\n",
    "        self.brand=brand\n",
    "        self.model_name=model_name\n",
    "        self.price=max(price,0)\n",
    "        \n",
    "    def full_name(self):\n",
    "        return f\"{self.brand} {self.model_name}\"\n",
    "class Smartphone(Phone): #derived class\n",
    "    def __init__(self,brand,model_name,price,ram,internal_memory,rear_camera):\n",
    "        super().__init__(brand,model_name,price) #uper se value extract krne k lie\n",
    "        self.ram=ram\n",
    "        self.internal_memory=internal_memory\n",
    "        self.rear_camera=rear_camera\n",
    "        \n",
    "class Smartphone2(Smartphone): #derived class\n",
    "    def __init__(self,brand,model_name,price,ram,internal_memory,rear_camera,lock):\n",
    "        super().__init__(brand,model_name,price,ram,internal_memory,rear_camera) #uper se value extract krne k lie\n",
    "        self.ram=ram\n",
    "        self.internal_memory=internal_memory\n",
    "        self.rear_camera=rear_camera\n",
    "        self.lock=lock\n",
    "phone = Phone('nokia','1100',1000)\n",
    "smartphone=Smartphone2('oneplus','s',30000,'6 gb' ,'64 gb0','20 MP',\"yes\")\n",
    "print(phone.full_name())\n",
    "print(smartphone.lock)\n",
    "print(issubclass(Smartphone2,Smartphone)) #(kya smartphone2 phone class ki subclass h ya nahi)\n",
    "print(isinstance(smartphone,Phone)) #object,class (smartphone ne phone ko inherit kia h ki nahi)\n",
    "print(issubclass(Smartphone,Phone))"
   ]
  },
  {
   "cell_type": "code",
   "execution_count": 34,
   "metadata": {
    "scrolled": true
   },
   "outputs": [
    {
     "name": "stdout",
     "output_type": "stream",
     "text": [
      "i'm just a class A merthod\n",
      "i'm just a class B merthod\n",
      " hello from class A\n",
      "Help on C in module __main__ object:\n",
      "\n",
      "class C(A, B)\n",
      " |  Method resolution order:\n",
      " |      C\n",
      " |      A\n",
      " |      B\n",
      " |      builtins.object\n",
      " |  \n",
      " |  Methods inherited from A:\n",
      " |  \n",
      " |  class_a_method(self)\n",
      " |  \n",
      " |  hello(self)\n",
      " |  \n",
      " |  ----------------------------------------------------------------------\n",
      " |  Data descriptors inherited from A:\n",
      " |  \n",
      " |  __dict__\n",
      " |      dictionary for instance variables (if defined)\n",
      " |  \n",
      " |  __weakref__\n",
      " |      list of weak references to the object (if defined)\n",
      " |  \n",
      " |  ----------------------------------------------------------------------\n",
      " |  Methods inherited from B:\n",
      " |  \n",
      " |  class_b_method(self)\n",
      "\n",
      "None\n"
     ]
    }
   ],
   "source": [
    "#multiple inheritance\n",
    "class A :\n",
    "    def class_a_method(self):\n",
    "        return 'i\\'m just a class A merthod'\n",
    "    \n",
    "    def hello(self):\n",
    "        return ' hello from class A'\n",
    "class B :\n",
    "    def class_b_method(self):\n",
    "        return 'i\\'m just a class B merthod'\n",
    "    \n",
    "    def hello(self):\n",
    "        return ' hello from class B'\n",
    "class C(A,B):\n",
    "    pass\n",
    "\n",
    "instance_c = C()\n",
    "print(instance_c.class_a_method())\n",
    "print(instance_c.class_b_method())\n",
    "print(instance_c.hello())\n",
    "print(help(instance_c))"
   ]
  },
  {
   "cell_type": "code",
   "execution_count": 41,
   "metadata": {},
   "outputs": [
    {
     "name": "stdout",
     "output_type": "stream",
     "text": [
      "I can walk and run\n",
      "i can crawl...\n"
     ]
    }
   ],
   "source": [
    "#Abstract class\n",
    "#it is a class for which we do not create object,it is not instanciated at all.\n",
    "#@abstractmethod is used to define separately in every class if you want to use it, vid 202\n",
    "class Animal:\n",
    "    \n",
    "    def move(self):\n",
    "        pass\n",
    "    \n",
    "class Human(Animal):\n",
    "    \n",
    "    def move(self):\n",
    "        print(\"I can walk and run\")\n",
    "        \n",
    "class Snake(Animal):\n",
    "    \n",
    "    def move(self):\n",
    "        print(\"i can crawl...\")\n",
    "def main():\n",
    "    h1 = Human()\n",
    "    h1.move()\n",
    "    \n",
    "    s1=Snake()\n",
    "    s1.move()\n",
    "    \n",
    "if __name__ == \"__main__\": #Sometimes you write a script with functions that might be useful \n",
    "                           #in other scripts as well. In Python, you can import that script as a module in another script.\n",
    "    main()\n",
    "    \n",
    "#@abstractmethod is used to define separately in every class if you want to use it, vid 202"
   ]
  },
  {
   "cell_type": "code",
   "execution_count": 1,
   "metadata": {},
   "outputs": [
    {
     "name": "stdout",
     "output_type": "stream",
     "text": [
      "half girlfriend\n",
      "chetan bhagat\n",
      "300\n",
      "Title: half girlfriend\n",
      "Author: chetan bhagat\n",
      "Price: 300\n"
     ]
    }
   ],
   "source": [
    "from abc import ABCMeta, abstractmethod #neccesry import for abstract class\n",
    "class Book(object, metaclass=ABCMeta): #metaclass hi error generate karega agr display method derived class me nahi hai\n",
    "    def __init__(self,title,author):\n",
    "        self.title=title\n",
    "        self.author=author   \n",
    "    @abstractmethod  #yahi vo method hoga jo defined karna necessary hoga\n",
    "    def display(): pass\n",
    "\n",
    "class MyBook(Book):\n",
    "    def __init__(self,title,author,price):\n",
    "        super().__init__(title,author)\n",
    "        self.price=price\n",
    "    def display(self): #if we do not define it the peogram will guve error,bcoz it is abstract method\n",
    "        print(f\"Title: {self.title}\")\n",
    "        print(f\"Author: {self.author}\")\n",
    "        print(f\"Price: {self.price}\") \n",
    "\n",
    "title=input()\n",
    "author=input()\n",
    "price=int(input())\n",
    "new_novel=MyBook(title,author,price)\n",
    "new_novel.display()"
   ]
  },
  {
   "cell_type": "code",
   "execution_count": 55,
   "metadata": {
    "scrolled": true
   },
   "outputs": [
    {
     "name": "stdout",
     "output_type": "stream",
     "text": [
      "123 volvo\n"
     ]
    }
   ],
   "source": [
    "class Car:\n",
    "    def __init__(self,car_id,car_name):\n",
    "        self.__car_id=car_id\n",
    "        self.car_name=car_name\n",
    "    def get_car_id(self):\n",
    "        return self.__car_id\n",
    "car1=Car(123,\"volvo\")\n",
    "print(car1.get_car_id(),car1.car_name)\n",
    "        "
   ]
  },
  {
   "cell_type": "code",
   "execution_count": 1,
   "metadata": {},
   "outputs": [],
   "source": [
    "class ClassA:\n",
    "    __param1=200\n",
    "    def __init__(self):\n",
    "        self.__param1 = 100\n",
    "        \n",
    "    def method1(self):\n",
    "        #line1 \n",
    "        ClassA.__param1=(ClassA.__param1+1) + (self.__param1)\n",
    "    @staticmethod\n",
    "    def method2():\n",
    "        #line2\n",
    "        print(self.__param1+1)\n",
    "        \n",
    "obj1 = ClassA()\n",
    "obj1.method1()\n",
    "#line3\n",
    "# self.method2()\n",
    "\n"
   ]
  },
  {
   "cell_type": "code",
   "execution_count": 73,
   "metadata": {},
   "outputs": [
    {
     "name": "stdout",
     "output_type": "stream",
     "text": [
      "402\n"
     ]
    }
   ],
   "source": [
    "class ClassA:\n",
    "    __param1=200\n",
    "    def __init__(self):\n",
    "        self.__param1 = 100\n",
    "        \n",
    "    def method1(self):\n",
    "        #line1 \n",
    "        ClassA.__param1=(ClassA.__param1+2) + ClassA.__param1\n",
    "    @staticmethod\n",
    "    def method2():\n",
    "        #line2\n",
    "        print(ClassA.__param1)\n",
    "        \n",
    "obj1 = ClassA()\n",
    "obj1.method1()\n",
    "#line3\n",
    "ClassA.method2()\n",
    "\n"
   ]
  },
  {
   "cell_type": "code",
   "execution_count": 74,
   "metadata": {},
   "outputs": [
    {
     "name": "stdout",
     "output_type": "stream",
     "text": [
      "302\n"
     ]
    }
   ],
   "source": [
    "class ClassA:\n",
    "    __param1=200\n",
    "    def __init__(self):\n",
    "        self.__param1 = 100\n",
    "        \n",
    "    def method1(self):\n",
    "        #line1 \n",
    "        ClassA.__param1=(ClassA.__param1+1) + (self.__param1)\n",
    "    @staticmethod\n",
    "    def method2():\n",
    "        #line2\n",
    "        print(ClassA.__param1+1)\n",
    "        \n",
    "obj1 = ClassA()\n",
    "obj1.method1()\n",
    "#line3\n",
    "ClassA.method2()\n",
    "\n"
   ]
  },
  {
   "cell_type": "code",
   "execution_count": 76,
   "metadata": {},
   "outputs": [
    {
     "ename": "NameError",
     "evalue": "name 'method2' is not defined",
     "output_type": "error",
     "traceback": [
      "\u001b[1;31m---------------------------------------------------------------------------\u001b[0m",
      "\u001b[1;31mNameError\u001b[0m                                 Traceback (most recent call last)",
      "\u001b[1;32m<ipython-input-76-4064e1bb23f8>\u001b[0m in \u001b[0;36m<module>\u001b[1;34m\u001b[0m\n\u001b[0;32m     15\u001b[0m \u001b[0mobj1\u001b[0m\u001b[1;33m.\u001b[0m\u001b[0mmethod1\u001b[0m\u001b[1;33m(\u001b[0m\u001b[1;33m)\u001b[0m\u001b[1;33m\u001b[0m\u001b[1;33m\u001b[0m\u001b[0m\n\u001b[0;32m     16\u001b[0m \u001b[1;31m#line3\u001b[0m\u001b[1;33m\u001b[0m\u001b[1;33m\u001b[0m\u001b[1;33m\u001b[0m\u001b[0m\n\u001b[1;32m---> 17\u001b[1;33m \u001b[0mmethod2\u001b[0m\u001b[1;33m(\u001b[0m\u001b[1;33m)\u001b[0m\u001b[1;33m\u001b[0m\u001b[1;33m\u001b[0m\u001b[0m\n\u001b[0m\u001b[0;32m     18\u001b[0m \u001b[1;33m\u001b[0m\u001b[0m\n",
      "\u001b[1;31mNameError\u001b[0m: name 'method2' is not defined"
     ]
    }
   ],
   "source": [
    "class ClassA:\n",
    "    __param1=200\n",
    "    def __init__(self):\n",
    "        self.__param1 = 100\n",
    "        \n",
    "    def method1(self):\n",
    "        #line1 \n",
    "        ClassA.__param1=(ClassA.__param1+2) + self.__param1\n",
    "    @staticmethod\n",
    "    def method2():\n",
    "        #line2\n",
    "        print(ClassA.__param1)\n",
    "        \n",
    "obj1 = ClassA()\n",
    "obj1.method1()\n",
    "#line3\n",
    "method2()\n",
    "\n"
   ]
  },
  {
   "cell_type": "code",
   "execution_count": 77,
   "metadata": {},
   "outputs": [
    {
     "name": "stdout",
     "output_type": "stream",
     "text": [
      "302\n"
     ]
    }
   ],
   "source": [
    "class ClassA:\n",
    "    __param1=200\n",
    "    def __init__(self):\n",
    "        self.__param1 = 100\n",
    "        \n",
    "    def method1(self):\n",
    "        #line1 \n",
    "        ClassA.__param1=ClassA.__param1 + (self.__param1 +2)\n",
    "    @staticmethod\n",
    "    def method2():\n",
    "        #line2\n",
    "        print(ClassA.__param1)\n",
    "        \n",
    "obj1 = ClassA()\n",
    "obj1.method1()\n",
    "#line3\n",
    "ClassA.method2()\n",
    "\n"
   ]
  },
  {
   "cell_type": "code",
   "execution_count": null,
   "metadata": {},
   "outputs": [],
   "source": []
  },
  {
   "cell_type": "code",
   "execution_count": 114,
   "metadata": {},
   "outputs": [
    {
     "name": "stdout",
     "output_type": "stream",
     "text": [
      "record=Ka09z7211\n",
      "record=Ka09z7211 + 15 + 4\n",
      "record=Ka09z7211 + 85000\n",
      "record=Ka09z7211\n",
      "record=Ka09z7211 + 15 + 4\n",
      "record=Ka09z7211\n",
      "record=Ka09z7211 + 15 + no\n",
      "<__main__.CommercialFourwheeler object at 0x000002753B497A58>\n",
      "<__main__.Fourwheeler object at 0x000002753B497B38>\n"
     ]
    }
   ],
   "source": [
    "class Vehicle():\n",
    "    def __init__(self,reg_no):\n",
    "        self.reg_no=reg_no\n",
    "        print(f\"record={self.reg_no}\")\n",
    "    \n",
    "class Twowheeler(Vehicle):\n",
    "    def __init__(self,reg_no,mileage,kickstart):\n",
    "        super().__init__(reg_no)\n",
    "        self.mileage=mileage\n",
    "        self.kickstart=kickstart\n",
    "        print(f\"record={self.reg_no} + {self.mileage} + {self.kickstart}\")\n",
    "    \n",
    "class Fourwheeler(Vehicle):\n",
    "    def __init__(self,reg_no,mileage,kickstart,no_of_gear):\n",
    "        super().__init__(reg_no)\n",
    "        self.no_of_gear=no_of_gear\n",
    "        self.mileage=mileage\n",
    "        print(f\"record={self.reg_no} + {self.mileage} + {self.no_of_gear}\")\n",
    "    \n",
    "class CommercialFourwheeler(Fourwheeler):\n",
    "    def __init__(self,reg_no,mileage,kickstart,no_of_gear,miles_run):\n",
    "        super().__init__(reg_no,mileage,kickstart,no_of_gear)\n",
    "        self.miles_run=miles_run\n",
    "        print(f\"record={self.reg_no} + {self.miles_run}\")\n",
    "    \n",
    "a=CommercialFourwheeler(\"Ka09z7211\",15,'no','4','85000')\n",
    "b=Fourwheeler(\"Ka09z7211\",15,'no','4')\n",
    "c=Twowheeler(\"Ka09z7211\",15,'no')\n",
    "print(a)\n",
    "print(b)\n",
    "# d=Vehicle(\"Ka09z7211\")\n",
    "# print(d)"
   ]
  },
  {
   "cell_type": "code",
   "execution_count": 119,
   "metadata": {},
   "outputs": [
    {
     "name": "stdout",
     "output_type": "stream",
     "text": [
      "record=Ka09z7211 + 89000\n",
      "None\n"
     ]
    }
   ],
   "source": [
    "class Vehicle():\n",
    "    def __init__(self,reg_no):\n",
    "        self.reg_no=reg_no\n",
    "    def record(self):\n",
    "            \n",
    "        print(f\"record={self.reg_no}\")\n",
    "    \n",
    "class Twowheeler(Vehicle):\n",
    "    def __init__(self,reg_no,mileage,kickstart):\n",
    "        super().__init__(reg_no)\n",
    "        self.mileage=mileage\n",
    "        self.kickstart=kickstart\n",
    "    def record(self):\n",
    "        print(f\"record={self.reg_no} + {self.mileage} + {self.kickstart}\")\n",
    "    \n",
    "class Fourwheeler(Vehicle):\n",
    "    def __init__(self,reg_no,mileage,kickstart,no_of_gear):\n",
    "        super().__init__(reg_no)\n",
    "        self.no_of_gear=no_of_gear\n",
    "        self.mileage=mileage\n",
    "    def record(self):   \n",
    "        print(f\"record={self.reg_no} + {self.mileage} + {self.no_of_gear}\")\n",
    "    \n",
    "class CommercialFourwheeler(Fourwheeler):\n",
    "    def __init__(self,reg_no,mileage,kickstart,no_of_gear,miles_run):\n",
    "        super().__init__(reg_no,mileage,kickstart,no_of_gear)\n",
    "        self.miles_run=miles_run\n",
    "    def record(self):\n",
    "        print(f\"record={self.reg_no} + {self.miles_run}\")\n",
    "    \n",
    "z=CommercialFourwheeler(\"Ka09z7211\",15,'no','4','89000')\n",
    "print(z.record())\n"
   ]
  },
  {
   "cell_type": "code",
   "execution_count": 1,
   "metadata": {},
   "outputs": [],
   "source": [
    "#polymorphism-ability to take various forms, print(5+6) will print 11 but print(\"5\"+\"6\") \n",
    "#will print 56 it mean alag alag roop dharan kar lena.\n"
   ]
  },
  {
   "cell_type": "code",
   "execution_count": null,
   "metadata": {},
   "outputs": [],
   "source": []
  }
 ],
 "metadata": {
  "kernelspec": {
   "display_name": "Python 3",
   "language": "python",
   "name": "python3"
  },
  "language_info": {
   "codemirror_mode": {
    "name": "ipython",
    "version": 3
   },
   "file_extension": ".py",
   "mimetype": "text/x-python",
   "name": "python",
   "nbconvert_exporter": "python",
   "pygments_lexer": "ipython3",
   "version": "3.6.8"
  }
 },
 "nbformat": 4,
 "nbformat_minor": 4
}
