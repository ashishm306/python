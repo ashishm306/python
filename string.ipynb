{
 "cells": [
  {
   "cell_type": "code",
   "execution_count": 53,
   "metadata": {},
   "outputs": [
    {
     "name": "stdout",
     "output_type": "stream",
     "text": [
      "enter num 1 : 5\n",
      "enter num 2 : 5\n",
      "total is 10\n"
     ]
    }
   ],
   "source": [
    "n1=int(input(\"enter num 1 : \"))\n",
    "n2=int(input(\"enter num 2 : \"))\n",
    "print(\"total is \" + str(n1+n2))"
   ]
  },
  {
   "cell_type": "code",
   "execution_count": 6,
   "metadata": {},
   "outputs": [
    {
     "name": "stdout",
     "output_type": "stream",
     "text": [
      "enter your name and age : addd 24\n",
      "addd\n",
      "24\n"
     ]
    }
   ],
   "source": [
    "#take two or more input in one line\n",
    "name,age=input(\"enter your name and age : \").split(\" \")\n",
    "print(name)\n",
    "print(age)"
   ]
  },
  {
   "cell_type": "markdown",
   "metadata": {},
   "source": [
    "# stringformatting"
   ]
  },
  {
   "cell_type": "code",
   "execution_count": 8,
   "metadata": {},
   "outputs": [
    {
     "name": "stdout",
     "output_type": "stream",
     "text": [
      "hello ashish your age is21\n"
     ]
    }
   ],
   "source": [
    "name=\"ashish\"\n",
    "age = 21\n",
    "print(\"hello \" + name + \" your age is\" + str(age)) #ugly syntax"
   ]
  },
  {
   "cell_type": "code",
   "execution_count": 12,
   "metadata": {},
   "outputs": [
    {
     "name": "stdout",
     "output_type": "stream",
     "text": [
      "hello ashish your name is 21\n",
      "hello ashish your name is 23\n"
     ]
    }
   ],
   "source": [
    "#now using string formatting vid \n",
    "#python 3\n",
    "print(\"hello {} your name is {}\".format(name,age))\n",
    "#python 3.6\n",
    "print(f\"hello {name} your name is {age + 2}\") # we can perforn operation also"
   ]
  },
  {
   "cell_type": "code",
   "execution_count": 17,
   "metadata": {},
   "outputs": [
    {
     "data": {
      "text/plain": [
       "'pto'"
      ]
     },
     "execution_count": 17,
     "metadata": {},
     "output_type": "execute_result"
    }
   ],
   "source": [
    "#pthon me indexing k lie [] hiuse hoga hamesha\n",
    "lang = \"python\"\n",
    "lang[4]\n",
    "\n",
    "#slicing[start agr:stop agr:step]\n",
    "lang[:]\n",
    "lang[0:5:2]"
   ]
  },
  {
   "cell_type": "code",
   "execution_count": 18,
   "metadata": {},
   "outputs": [
    {
     "name": "stdout",
     "output_type": "stream",
     "text": [
      "enter nameAshish Mishra\n",
      "arhsiM hsihsA\n"
     ]
    }
   ],
   "source": [
    "name=input(\"enter name\")\n",
    "print(name[::-1])"
   ]
  },
  {
   "cell_type": "markdown",
   "metadata": {},
   "source": []
  },
  {
   "cell_type": "code",
   "execution_count": 34,
   "metadata": {},
   "outputs": [
    {
     "name": "stdout",
     "output_type": "stream",
     "text": [
      "enter name and letter : AsHish,H\n",
      "6\n",
      "2\n"
     ]
    }
   ],
   "source": [
    "name,letter=input(\"enter name and letter : \").split(\",\")\n",
    "length=len(name)\n",
    "print(length)\n",
    "c=name.lower().count(letter.lower())\n",
    "print(c)"
   ]
  },
  {
   "cell_type": "code",
   "execution_count": 37,
   "metadata": {},
   "outputs": [
    {
     "name": "stdout",
     "output_type": "stream",
     "text": [
      "      Ashish      ...............\n",
      "Ashish      ...............\n",
      "      Ashish...............\n",
      "Ashish...............\n"
     ]
    }
   ],
   "source": [
    "#strip method\n",
    "name=\"      Ashish      \"\n",
    "dots=\"...............\"\n",
    "print(name+dots)\n",
    "print(name.lstrip()+dots)\n",
    "print(name.rstrip()+dots)\n",
    "print(name.strip()+dots)"
   ]
  },
  {
   "cell_type": "code",
   "execution_count": 40,
   "metadata": {},
   "outputs": [
    {
     "name": "stdout",
     "output_type": "stream",
     "text": [
      "ASHIsh\n"
     ]
    }
   ],
   "source": [
    "#replace method\n",
    "name= \"  AS  H I       sh\"\n",
    "name.replace(\" \",\"\")\n",
    "print(name.replace(\" \",\"\"))"
   ]
  },
  {
   "cell_type": "code",
   "execution_count": 12,
   "metadata": {},
   "outputs": [
    {
     "name": "stdout",
     "output_type": "stream",
     "text": [
      "she was beautiful and she is a good dancer\n"
     ]
    }
   ],
   "source": [
    "string = \"she is beautiful and she is a good dancer\"\n",
    "print(string.replace(\"is\",\"was\",1))"
   ]
  },
  {
   "cell_type": "code",
   "execution_count": 10,
   "metadata": {},
   "outputs": [
    {
     "name": "stdout",
     "output_type": "stream",
     "text": [
      "26\n"
     ]
    }
   ],
   "source": [
    "s=\"she was beautiful and she was a good dancer\"\n",
    "print(s.find(\"was\",5))"
   ]
  },
  {
   "cell_type": "code",
   "execution_count": 4,
   "metadata": {},
   "outputs": [
    {
     "name": "stdout",
     "output_type": "stream",
     "text": [
      "she was beautiful and she was a good dancer\n"
     ]
    }
   ],
   "source": [
    "string = \"she is beautiful and she is a good dancer\"\n",
    "string=string.replace(\"is\",\"was\",2)\n",
    "print(string)"
   ]
  },
  {
   "cell_type": "code",
   "execution_count": 52,
   "metadata": {},
   "outputs": [
    {
     "name": "stdout",
     "output_type": "stream",
     "text": [
      "thid is \\n\n"
     ]
    }
   ],
   "source": [
    "print(r\"thid is \\n\")"
   ]
  },
  {
   "cell_type": "markdown",
   "metadata": {},
   "source": [
    "# regex module"
   ]
  },
  {
   "cell_type": "code",
   "execution_count": 8,
   "metadata": {},
   "outputs": [
    {
     "name": "stdout",
     "output_type": "stream",
     "text": [
      "6\n",
      "['5', '0', '3', '3', '5', '4']\n",
      "503354\n"
     ]
    }
   ],
   "source": [
    "# \\d for digit\n",
    "import re\n",
    "string=\"aAbs5d0hDEf3nd3%#54K\"\n",
    "str_list=re.findall(\"\\d\",string)#pattern,string    #findall method\n",
    "print(len(str_list))\n",
    "print(str_list)\n",
    "print(''.join(str_list))"
   ]
  },
  {
   "cell_type": "code",
   "execution_count": 8,
   "metadata": {},
   "outputs": [
    {
     "name": "stdout",
     "output_type": "stream",
     "text": [
      "14\n",
      "aAbsdhDEfnd%#K\n",
      "['a', 'A', 'b', 's', 'd', 'h', 'D', 'E', 'f', 'n', 'd', '%', '#', 'K']\n"
     ]
    }
   ],
   "source": [
    "# \\D , digit chord ke baki sab\n",
    "import re\n",
    "string=\"aAbs5d0hDEf3nd3%#54K\"\n",
    "str_list=re.findall(\"\\D\",string)#pattern,string    #findall method\n",
    "print(len(str_list))\n",
    "print(''.join(str_list))\n",
    "print(str_list)"
   ]
  },
  {
   "cell_type": "code",
   "execution_count": 10,
   "metadata": {},
   "outputs": [
    {
     "name": "stdout",
     "output_type": "stream",
     "text": [
      "4\n",
      "ADEK\n",
      "['A', 'D', 'E', 'K']\n"
     ]
    }
   ],
   "source": [
    "# [A-Z] for capital albhabet, digit chord ke baki sab\n",
    "import re\n",
    "string=\"aAbs5d0hDEf3nd3%#54K\"\n",
    "str_list=re.findall(\"[A-Z]\",string)#pattern,string    #findall method\n",
    "print(len(str_list))\n",
    "print(''.join(str_list))\n",
    "print(str_list)"
   ]
  },
  {
   "cell_type": "code",
   "execution_count": 2,
   "metadata": {},
   "outputs": [
    {
     "name": "stdout",
     "output_type": "stream",
     "text": [
      "2\n",
      "AbEf\n",
      "['Ab', 'Ef']\n"
     ]
    }
   ],
   "source": [
    "# [A-Z][a-z] for capital albhabet, digit chord ke baki sab\n",
    "import re\n",
    "string=\"aAbs5d0hDEf3nd3%#54K\"\n",
    "str_list=re.findall(\"[A-Z][a-z]\",string)#pattern,string    #findall method\n",
    "print(len(str_list))\n",
    "print(''.join(str_list))\n",
    "print(str_list)"
   ]
  },
  {
   "cell_type": "code",
   "execution_count": 12,
   "metadata": {},
   "outputs": [
    {
     "name": "stdout",
     "output_type": "stream",
     "text": [
      "6\n",
      "503354\n",
      "['a', 'A', 'b', 's', 'd', 'h', 'D', 'E', 'f', 'n', 'd', '%', '#', 'K']\n",
      "['a', 'A', 'b', 's', '5', 'd', '0', 'h', 'D', 'E', 'f', '3', 'n', 'd', '3', '%', '#', '5', '4', 'K']\n"
     ]
    }
   ],
   "source": [
    "#find all special char\n",
    "# [A-Z][a-z] for capital albhabet, digit chord ke baki sab\n",
    "import re\n",
    "string=\"aAbs5d0hDEf3nd3%#54K\"\n",
    "string2=list(string)\n",
    "str_list1=re.findall(\"\\D\",string)#pattern,string    #findall method\n",
    "str_list=re.findall(\"\\d\",string)\n",
    "print(len(str_list))\n",
    "print(''.join(str_list))\n",
    "print(str_list1)\n",
    "print(string2)\n"
   ]
  },
  {
   "cell_type": "code",
   "execution_count": 26,
   "metadata": {},
   "outputs": [
    {
     "name": "stdout",
     "output_type": "stream",
     "text": [
      "12\n",
      "033231343536545253545955\n",
      "['03', '32', '31', '34', '35', '36', '54', '52', '53', '54', '59', '55']\n"
     ]
    }
   ],
   "source": [
    "# [0-5][0-5] 00 -59\n",
    "import re\n",
    "string=\"a03d323an31343536545253545955\"\n",
    "str_list=re.findall(\"[0-5][0-9]\",string) #00 -59\n",
    "print(len(str_list))\n",
    "print(''.join(str_list))\n",
    "print(str_list)"
   ]
  },
  {
   "cell_type": "code",
   "execution_count": 27,
   "metadata": {},
   "outputs": [
    {
     "name": "stdout",
     "output_type": "stream",
     "text": [
      "2\n",
      "aiai\n",
      "['ai', 'ai']\n"
     ]
    }
   ],
   "source": [
    "#substring\n",
    "import re\n",
    "string=\"the rain in the spain\"\n",
    "str_list=re.findall(\"ai\",string)\n",
    "print(len(str_list))\n",
    "print(''.join(str_list))\n",
    "print(str_list)"
   ]
  },
  {
   "cell_type": "code",
   "execution_count": 28,
   "metadata": {},
   "outputs": [
    {
     "name": "stdout",
     "output_type": "stream",
     "text": [
      "1\n",
      "the\n",
      "['the']\n"
     ]
    }
   ],
   "source": [
    "# ^ for starting with\n",
    "import re\n",
    "string=\"the rain in the spain\"\n",
    "str_list=re.findall(\"^the\",string)\n",
    "print(len(str_list))\n",
    "print(''.join(str_list))\n",
    "print(str_list)"
   ]
  },
  {
   "cell_type": "code",
   "execution_count": 19,
   "metadata": {},
   "outputs": [
    {
     "name": "stdout",
     "output_type": "stream",
     "text": [
      "YES! We have a match!\n"
     ]
    }
   ],
   "source": [
    "# re.search\n",
    "import re\n",
    "\n",
    "#Check if the string starts with \"The\" and ends with \"Spain\":\n",
    "\n",
    "txt = \"The rain in Spain\"\n",
    "x = re.search(\"^The\", txt)\n",
    "\n",
    "if x:\n",
    "    print(\"YES! We have a match!\")\n",
    "else:\n",
    "    print(\"No match\")\n",
    "\n"
   ]
  },
  {
   "cell_type": "code",
   "execution_count": null,
   "metadata": {},
   "outputs": [],
   "source": []
  },
  {
   "cell_type": "code",
   "execution_count": null,
   "metadata": {},
   "outputs": [],
   "source": []
  },
  {
   "cell_type": "code",
   "execution_count": null,
   "metadata": {},
   "outputs": [],
   "source": []
  }
 ],
 "metadata": {
  "kernelspec": {
   "display_name": "Python 3",
   "language": "python",
   "name": "python3"
  },
  "language_info": {
   "codemirror_mode": {
    "name": "ipython",
    "version": 3
   },
   "file_extension": ".py",
   "mimetype": "text/x-python",
   "name": "python",
   "nbconvert_exporter": "python",
   "pygments_lexer": "ipython3",
   "version": "3.6.8"
  }
 },
 "nbformat": 4,
 "nbformat_minor": 4
}
