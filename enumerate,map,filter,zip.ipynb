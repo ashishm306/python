{
 "cells": [
  {
   "cell_type": "code",
   "execution_count": 2,
   "metadata": {},
   "outputs": [
    {
     "name": "stdout",
     "output_type": "stream",
     "text": [
      "0----->abc\n",
      "0----->abcdef\n",
      "0----->Ashish\n"
     ]
    }
   ],
   "source": [
    "#vid 152 , enumerate function\n",
    "#we use enumerate function with for loop to track position of our item in iteratble\n",
    "#syntax enumerate(list or tuple)\n",
    "\n",
    "#without enumerate\n",
    "names = ['abc','abcdef','Ashish']\n",
    "#0 -----> 'abc'\n",
    "pos = 0\n",
    "for name in names:\n",
    "    print(f\"{pos}----->{name}\")"
   ]
  },
  {
   "cell_type": "code",
   "execution_count": 10,
   "metadata": {},
   "outputs": [
    {
     "name": "stdout",
     "output_type": "stream",
     "text": [
      "0 -----> abc\n",
      "1 -----> abcdef\n",
      "2 -----> Ashish\n"
     ]
    }
   ],
   "source": [
    "#with enumerate\n",
    "names1 = ['abc','abcdef','Ashish']\n",
    "for pos,name in enumerate(names1):\n",
    "#     print(f\"{pos}----->{name}\")\n",
    "    print(pos ,\"----->\",name)\n",
    "    "
   ]
  },
  {
   "cell_type": "code",
   "execution_count": 5,
   "metadata": {},
   "outputs": [
    {
     "name": "stdout",
     "output_type": "stream",
     "text": [
      "[(0, 'abc'), (1, 'abcdef'), (2, 'Ashish')]\n"
     ]
    }
   ],
   "source": [
    "names1 = ['abc','abcdef','Ashish']\n",
    "y=enumerate(names1)\n",
    "print(list(y))"
   ]
  },
  {
   "cell_type": "code",
   "execution_count": 10,
   "metadata": {},
   "outputs": [
    {
     "name": "stdout",
     "output_type": "stream",
     "text": [
      "[1, 4, 9, 16]\n"
     ]
    }
   ],
   "source": [
    "#vid 153 , Map function\n",
    "#syntax- map(fun name without paranthesis,iterable)\n",
    "#it return map object that we can convert into list or tuple\n",
    "numbers= [1,2,3,4]\n",
    "\n",
    "def square(a):\n",
    "    return a**2\n",
    "sq_list = list(map(square,numbers))\n",
    "print(sq_list)\n"
   ]
  },
  {
   "cell_type": "code",
   "execution_count": 1,
   "metadata": {},
   "outputs": [
    {
     "name": "stdout",
     "output_type": "stream",
     "text": [
      "Enter number of elements : 5\n",
      "\n",
      "Enter the numbers : 1 2 3 4 5\n",
      "[1, 2, 3, 4, 5]\n"
     ]
    }
   ],
   "source": [
    "n = int(input(\"Enter number of elements : \")) \n",
    "\n",
    "l = list(map(int,input(\"\\nEnter the numbers : \").split()))\n",
    "print(l)\n"
   ]
  },
  {
   "cell_type": "code",
   "execution_count": 20,
   "metadata": {},
   "outputs": [
    {
     "name": "stdout",
     "output_type": "stream",
     "text": [
      "4\n"
     ]
    }
   ],
   "source": [
    "#using lambda\n",
    "#lambda arguments: expression\n",
    "#In Python, an anonymous function is a function that is defined without a name.\n",
    "\n",
    "#While normal functions are defined using the def keyword in Python,\n",
    "#anonymous functions are defined using the lambda keyword.\n",
    "numbers= [1,2,3,4]\n",
    "sq_list1 = lambda a :a**2\n",
    "print(sq_list1(2))\n",
    "\n"
   ]
  },
  {
   "cell_type": "code",
   "execution_count": 21,
   "metadata": {},
   "outputs": [
    {
     "name": "stdout",
     "output_type": "stream",
     "text": [
      "8\n"
     ]
    }
   ],
   "source": [
    "numbers= [1,2,3,4]\n",
    "sq_list1 = lambda a,b :a**b\n",
    "print(sq_list1(2,3))\n"
   ]
  },
  {
   "cell_type": "code",
   "execution_count": 15,
   "metadata": {},
   "outputs": [
    {
     "name": "stdout",
     "output_type": "stream",
     "text": [
      "[1, 4, 9, 16]\n"
     ]
    }
   ],
   "source": [
    "numbers= [1,2,3,4]\n",
    "sq_list1 = list(map(lambda a :a**2 ,numbers))\n",
    "print(sq_list1)\n"
   ]
  },
  {
   "cell_type": "code",
   "execution_count": 22,
   "metadata": {},
   "outputs": [
    {
     "name": "stdout",
     "output_type": "stream",
     "text": [
      "22\n"
     ]
    }
   ],
   "source": [
    "def myfunc(n):\n",
    "    return lambda a : a * n\n",
    "\n",
    "mydoubler = myfunc(2)\n",
    "\n",
    "print(mydoubler(11))\n"
   ]
  },
  {
   "cell_type": "code",
   "execution_count": 32,
   "metadata": {},
   "outputs": [
    {
     "name": "stdout",
     "output_type": "stream",
     "text": [
      "[2, 4, 6, 8, 10, 12, 14, 16, 18, 20]\n"
     ]
    }
   ],
   "source": [
    "t= lambda a : [a*i for i in range(1,11)]\n",
    "print(t(2))"
   ]
  },
  {
   "cell_type": "markdown",
   "metadata": {},
   "source": [
    "Why Use Lambda Functions?\n",
    "The power of lambda is better shown when you use them as an anonymous function inside another function.\n",
    "\n",
    "Say you have a function definition that takes one argument, and that argument will be multiplied with an unknown number:"
   ]
  },
  {
   "cell_type": "code",
   "execution_count": 16,
   "metadata": {},
   "outputs": [
    {
     "name": "stdout",
     "output_type": "stream",
     "text": [
      "[1, 4, 9, 16]\n"
     ]
    }
   ],
   "source": [
    "#using list comprehension\n",
    "numbers= [1,2,3,4]\n",
    "sq_list =[a**2 for a in numbers] \n",
    "print(sq_list)\n"
   ]
  },
  {
   "cell_type": "code",
   "execution_count": 19,
   "metadata": {},
   "outputs": [
    {
     "name": "stdout",
     "output_type": "stream",
     "text": [
      "[6, 6, 9]\n"
     ]
    }
   ],
   "source": [
    "#find the length of the strings in a lists\n",
    "names = ['ashish','mishra','inspirion']\n",
    "length=list(map(len,names))\n",
    "print(length)"
   ]
  },
  {
   "cell_type": "code",
   "execution_count": 20,
   "metadata": {},
   "outputs": [
    {
     "name": "stdout",
     "output_type": "stream",
     "text": [
      "6\n",
      "6\n",
      "9\n"
     ]
    }
   ],
   "source": [
    "#we can also loop in map\n",
    "names = ['ashish','mishra','inspirion']\n",
    "length=map(len,names)\n",
    "for i in length:\n",
    "    print(i)"
   ]
  },
  {
   "cell_type": "code",
   "execution_count": 23,
   "metadata": {},
   "outputs": [
    {
     "name": "stdout",
     "output_type": "stream",
     "text": [
      "(4, 2, 6, 8, 10)\n"
     ]
    }
   ],
   "source": [
    "# vid 154 , filter function\n",
    "#the filter() method filters the given iterable with the help of a function \n",
    "#that tests each element in the iterable to be true or not\n",
    "#syntax - filter(fun,list)\n",
    "def is_even(a):\n",
    "    return a%2==0\n",
    "numbers=[3,4,5,2,1,6,8,9,7,10]\n",
    "evens=tuple(filter(is_even,numbers))\n",
    "print(evens)"
   ]
  },
  {
   "cell_type": "code",
   "execution_count": 34,
   "metadata": {},
   "outputs": [
    {
     "name": "stdout",
     "output_type": "stream",
     "text": [
      "[22, 21, 18, 65]\n"
     ]
    }
   ],
   "source": [
    "def adult(n):\n",
    "    if n<18:\n",
    "        return False\n",
    "    else :\n",
    "        return True\n",
    "n=[11,22,21,18,65,13]\n",
    "m=list(filter(adult,n))\n",
    "print(m)"
   ]
  },
  {
   "cell_type": "code",
   "execution_count": 29,
   "metadata": {},
   "outputs": [
    {
     "name": "stdout",
     "output_type": "stream",
     "text": [
      "[('user', 'harshit'), ('user2', 'mohit'), ('user3', 'rohit')]\n",
      "{'user': 'harshit', 'user2': 'mohit', 'user3': 'rohit'}\n"
     ]
    }
   ],
   "source": [
    "#vid 156 ,zip function\n",
    "#syntax - zip(l1,l2,....ln) , note - for dict type only two args require\n",
    "#will return tuple\n",
    "user_id = ['user' , 'user2','user3'] \n",
    "names = ['harshit' , 'mohit' ,'rohit']\n",
    "print(list(zip(user_id,names)))\n",
    "print(dict(zip(user_id,names)))"
   ]
  },
  {
   "cell_type": "code",
   "execution_count": 36,
   "metadata": {},
   "outputs": [
    {
     "name": "stdout",
     "output_type": "stream",
     "text": [
      "[(1, 5), (2, 6), (3, 7), (4, 8)]\n",
      "(1, 2, 3, 4)\n",
      "(5, 6, 7, 8)\n"
     ]
    }
   ],
   "source": [
    "l1 = [1,2,3,4]\n",
    "l2=[5,6,7,8]\n",
    "l = list(zip(l1,l2))\n",
    "print(l)\n",
    "\n",
    "l3,l4 = zip(*l)\n",
    "print(l3)\n",
    "print(l4)"
   ]
  },
  {
   "cell_type": "code",
   "execution_count": 38,
   "metadata": {},
   "outputs": [
    {
     "name": "stdout",
     "output_type": "stream",
     "text": [
      "[5, 6, 7, 8]\n"
     ]
    }
   ],
   "source": [
    "l1 = [1,2,3,4]\n",
    "l2=[5,6,7,8]\n",
    "new_list = []\n",
    "for pair in zip(l1,l2):\n",
    "    new_list.append(max(pair))\n",
    "    \n",
    "print(new_list)"
   ]
  },
  {
   "cell_type": "code",
   "execution_count": null,
   "metadata": {},
   "outputs": [],
   "source": [
    "n=int(input())\n",
    "for i in range(n):\n",
    "    dict"
   ]
  }
 ],
 "metadata": {
  "kernelspec": {
   "display_name": "Python 3",
   "language": "python",
   "name": "python3"
  },
  "language_info": {
   "codemirror_mode": {
    "name": "ipython",
    "version": 3
   },
   "file_extension": ".py",
   "mimetype": "text/x-python",
   "name": "python",
   "nbconvert_exporter": "python",
   "pygments_lexer": "ipython3",
   "version": "3.6.8"
  }
 },
 "nbformat": 4,
 "nbformat_minor": 4
}
