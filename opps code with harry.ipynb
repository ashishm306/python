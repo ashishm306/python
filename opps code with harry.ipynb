{
 "cells": [
  {
   "cell_type": "code",
   "execution_count": 2,
   "metadata": {},
   "outputs": [],
   "source": [
    "# # vid-1\n",
    "# 1.jak ek code bar bar use ho raha hai toh hum uss code ka object bana ke use kar lenge like 1000 pedestrian hai ek game me toh hum 1000 pedestraian\n",
    "# ka code likhne ki bajaiye ek object bata lenge\n",
    "# 2.encapsulation -programmer ko sara access nahi hona chahiye code ka , kuch chij private , kuch public and kuch protected bana sakte hai.\n"
   ]
  },
  {
   "cell_type": "code",
   "execution_count": 11,
   "metadata": {},
   "outputs": [
    {
     "name": "stdout",
     "output_type": "stream",
     "text": [
      "jakson das\n"
     ]
    }
   ],
   "source": [
    "# # vid 2=Classes, Objects and Constructors \n",
    "# class is a template of object.\n",
    "# pass ek keyword hai jiska matlab hota hai kuch nahi\n",
    "class Employee:\n",
    "    pass \n",
    "harry=Employee()\n",
    "rohan=Employee()\n",
    "\n",
    "harry.fname=\"harry\"\n",
    "harry.lname=\"jakson\"\n",
    "harry.salary=40000\n",
    "\n",
    "rohan.fname=\"rohan\"\n",
    "rohan.lname=\"das\"\n",
    "rohan.salary=40000\n",
    "\n",
    "print(harry.lname , rohan.lname)"
   ]
  },
  {
   "cell_type": "code",
   "execution_count": 3,
   "metadata": {},
   "outputs": [
    {
     "name": "stdout",
     "output_type": "stream",
     "text": [
      "jakson das\n"
     ]
    }
   ],
   "source": [
    "# code reusesibility in class \n",
    "class Employee:\n",
    "    def __init__(self,fname,lname,salary): #constractor\n",
    "        self.fname=fname\n",
    "        self.liname=lname\n",
    "        self.salary=salary\n",
    "        \n",
    "harry=Employee(\"harry\",\"jakson\",40000) #object\n",
    "rohan=Employee(\"rohan\",\"das\",40000)\n",
    "print(harry.liname,rohan.liname)\n",
    "\n",
    "#self.fname=instance variable\n",
    "#fname=function ne jo variable lia hai vo hai"
   ]
  },
  {
   "cell_type": "code",
   "execution_count": 19,
   "metadata": {},
   "outputs": [
    {
     "name": "stdout",
     "output_type": "stream",
     "text": [
      "40000\n",
      "80000\n"
     ]
    }
   ],
   "source": [
    "#vid 3, Instance and Class Variables \n",
    "class Employee:\n",
    "    increment=2 #class variable\n",
    "    def __init__(self,fname,lname,salary): #constractor\n",
    "        self.fname=fname #instance variable\n",
    "        self.lname=lname #instance variable\n",
    "        self.salary=salary\n",
    "\n",
    "        \n",
    "    def increase(self):\n",
    "        self.salary=self.salary*Employee.increment #(instance variable*classvariable)\n",
    "harry=Employee(\"harry\",\"jakson\",40000)\n",
    "print(harry.salary)\n",
    "harry.increase()\n",
    "print(harry.salary)\n",
    "        \n",
    "        "
   ]
  },
  {
   "cell_type": "code",
   "execution_count": 29,
   "metadata": {},
   "outputs": [
    {
     "name": "stdout",
     "output_type": "stream",
     "text": [
      "40000\n",
      "80000\n",
      "{'fname': 'harry', 'lname': 'jakson', 'salary': 80000}\n",
      "\n",
      "\n",
      "{'__module__': '__main__', 'increment': 2, '__init__': <function Employee.__init__ at 0x0000015FBA0F5D90>, 'increase': <function Employee.increase at 0x0000015FBA0F5E18>, '__dict__': <attribute '__dict__' of 'Employee' objects>, '__weakref__': <attribute '__weakref__' of 'Employee' objects>, '__doc__': None}\n"
     ]
    }
   ],
   "source": [
    "#vid 3, Instance and Class Variables \n",
    "class Employee:\n",
    "    increment=2 #class variable\n",
    "    def __init__(self,fname,lname,salary): #constractor\n",
    "        self.fname=fname #instance variable\n",
    "        self.lname=lname #instance variable\n",
    "        self.salary=salary\n",
    "        self.increment=3\n",
    "        \n",
    "    def increase(self):\n",
    "        self.salary=self.salary*self.increment #(instance variable*instancevariable)\n",
    "        #agar self.increment nahi define hota as a instance varible tab phir \n",
    "        #increase ke self.increment me aone aap class variable ki value aa jati\n",
    "harry=Employee(\"harry\",\"jakson\",40000)\n",
    "print(harry.salary)\n",
    "harry.increase()\n",
    "print(harry.salary)\n",
    "\n",
    "print(harry.__dict__)\n",
    "print()\n",
    "print()\n",
    "print(Employee.__dict__)\n",
    "        \n",
    "        "
   ]
  },
  {
   "cell_type": "code",
   "execution_count": 47,
   "metadata": {},
   "outputs": [
    {
     "name": "stdout",
     "output_type": "stream",
     "text": [
      "0\n",
      "2\n"
     ]
    }
   ],
   "source": [
    "#if want to count no. of employee of a class\n",
    "class Employee:\n",
    "    no_of_emp=0 #class variable\n",
    "    def __init__(self,fname,lname,salary): #constractor\n",
    "        self.fname=fname #instance variable\n",
    "        self.lname=lname #instance variable\n",
    "        self.salary=salary\n",
    "        Employee.no_of_emp+=1\n",
    "        \n",
    "\n",
    "\n",
    "print(Employee.no_of_emp)\n",
    " \n",
    "parry = Employee(\"harry\",\"jakson\",40000) #object1\n",
    "sohan = Employee(\"rohan\",\"das\",40000)#obj2\n",
    "\n",
    "print(Employee.no_of_emp)\n",
    "\n"
   ]
  },
  {
   "cell_type": "code",
   "execution_count": 53,
   "metadata": {},
   "outputs": [
    {
     "name": "stdout",
     "output_type": "stream",
     "text": [
      "120000\n"
     ]
    }
   ],
   "source": [
    "# vid-4 Class Methods In Python, jab class ke ek variable ko change karna pade,self na pass karna pade(Poora object)\n",
    "class Employee:\n",
    "    increment=2 #class variable\n",
    "    def __init__(self,fname,lname,salary): #constractor\n",
    "        self.fname=fname #instance variable\n",
    "        self.lname=lname #instance variable\n",
    "        self.salary=salary\n",
    "        self.increment=3\n",
    "        \n",
    "    def increase(self):\n",
    "        self.salary=self.salary*self.increment \n",
    "    @classmethod\n",
    "    def change_increment(cls,amount): #yaha pe cls employee hi hai\n",
    "        cls.increment=amount\n",
    "        \n",
    "parry = Employee(\"parry\",\"jakson\",40000)\n",
    "Employee.change_increment(3)\n",
    "parry.increase()\n",
    "print(parry.salary)"
   ]
  },
  {
   "cell_type": "code",
   "execution_count": 55,
   "metadata": {},
   "outputs": [
    {
     "name": "stdout",
     "output_type": "stream",
     "text": [
      "parry\n",
      "jakson\n",
      "40000\n"
     ]
    }
   ],
   "source": [
    "#vid-5  Class Methods As Alternative Constructor\n",
    "class Employee:\n",
    "    increment=2 #class variable\n",
    "    def __init__(self,fname,lname,salary): #constractor\n",
    "        self.fname=fname #instance variable\n",
    "        self.lname=lname #instance variable\n",
    "        self.salary=salary\n",
    "        self.increment=3\n",
    "        \n",
    "    def increase(self):\n",
    "        self.salary=self.salary*self.increment \n",
    "    @classmethod\n",
    "    def change_increment(cls,amount): #yaha pe cls employee hi hai\n",
    "        cls.increment=amount\n",
    "    \n",
    "    @classmethod\n",
    "    def fromstring(cls,emp_string):\n",
    "        fname,lname,salary=emp_string.split(\"-\")\n",
    "        return cls(fname,lname,salary)\n",
    "emp1 = Employee.fromstring(\"parry-jakson-40000\")\n",
    "print(emp1.fname)\n",
    "print(emp1.lname)\n",
    "print(emp1.salary)"
   ]
  },
  {
   "cell_type": "code",
   "execution_count": 58,
   "metadata": {},
   "outputs": [
    {
     "name": "stdout",
     "output_type": "stream",
     "text": [
      "False\n"
     ]
    }
   ],
   "source": [
    "# vid-6 Static Methods In Python oops , jab hame na class pass karni ho na instance tab static method ka use karenge\n",
    "class Employee:\n",
    "    increment=2 #class variable\n",
    "    def __init__(self,fname,lname,salary): #constractor\n",
    "        self.fname=fname #instance variable\n",
    "        self.lname=lname #instance variable\n",
    "        self.salary=salary\n",
    "        self.increment=3\n",
    "        \n",
    "    def increase(self):\n",
    "        self.salary=self.salary*self.increment \n",
    "    @classmethod\n",
    "    def change_increment(cls,amount): #yaha pe cls employee hi hai\n",
    "        cls.increment=amount\n",
    "    \n",
    "    @classmethod\n",
    "    def fromstring(cls,emp_string):\n",
    "        fname,lname,salary=emp_string.split(\"-\")\n",
    "        return cls(fname,lname,salary)\n",
    "    @staticmethod\n",
    "    def isopen(day):\n",
    "        if day==\"sunday\":\n",
    "            print(True)\n",
    "        else :\n",
    "            print(False)\n",
    "Employee.isopen(\"monday\")"
   ]
  },
  {
   "cell_type": "code",
   "execution_count": 77,
   "metadata": {},
   "outputs": [
    {
     "name": "stdout",
     "output_type": "stream",
     "text": [
      "nikhkesh 20 python 3\n"
     ]
    }
   ],
   "source": [
    "# vid-7 Inheritance In Python oops ,agr hum chante hai ki hum same class me kuch alg se \n",
    "#function kisi specil emp ke lie bana sake\n",
    "class Employee:\n",
    "    increment=2 #class variable\n",
    "    def __init__(self,fname,lname,salary): #constractor\n",
    "        self.fname=fname #instance variable\n",
    "        self.lname=lname #instance variable\n",
    "        self.salary=salary\n",
    "        self.increment=3\n",
    "        \n",
    "    def increase(self):\n",
    "        self.salary=self.salary*self.increment \n",
    "    @classmethod\n",
    "    def change_increment(cls,amount): #yaha pe cls employee hi hai\n",
    "        cls.increment=amount\n",
    "    \n",
    "class programmer(Employee):\n",
    "    def __init__(self,fname,lname,salary,prolang,exp):\n",
    "        super().__init__(fname,lname,salary)\n",
    "        self.prolang = prolang\n",
    "        self.exp=exp\n",
    "        \n",
    "    def increase(self):\n",
    "        self.salary=self.salary*(self.increment+1)\n",
    "        \n",
    "emp2=programmer(\"nikhkesh\",\"yadav\",5,\"python\",3)\n",
    "emp2.increase()\n",
    "print(emp2.fname , emp2.salary, emp2.prolang ,emp2.exp)\n"
   ]
  },
  {
   "cell_type": "code",
   "execution_count": 83,
   "metadata": {},
   "outputs": [],
   "source": [
    "# # vid 8 Magic/Dunder Methods In Python\n",
    "# +\n",
    "# object.__add__(self, other) \n",
    "# -\n",
    "# object.__sub__(self, other)\n",
    "# *\n",
    "# object.__mul__(self, other) \n",
    "# //\n",
    "# object.__floordiv__(self, other)\n",
    "# /\n",
    "# object.__truediv__(self, other)\n",
    "# %\n",
    "# object.__mod__(self, other) \n",
    "# **\n",
    "# object.__pow__(self, other[, modulo]) \n",
    "# <<\n",
    "# object.__lshift__(self, other) \n",
    "# >>\n",
    "# object.__rshift__(self, other) \n",
    "# &\n",
    "# object.__and__(self, other)\n",
    "# ^\n",
    "# object.__xor__(self, other) \n",
    "# |\n",
    "# object.__or__(self, other)\n"
   ]
  },
  {
   "cell_type": "code",
   "execution_count": 81,
   "metadata": {},
   "outputs": [
    {
     "name": "stdout",
     "output_type": "stream",
     "text": [
      "12\n"
     ]
    }
   ],
   "source": [
    "a=6\n",
    "print(a.__add__(6))"
   ]
  },
  {
   "cell_type": "code",
   "execution_count": 87,
   "metadata": {},
   "outputs": [
    {
     "name": "stdout",
     "output_type": "stream",
     "text": [
      "rohandas@gmail.com\n",
      "rohandas@gmail.com\n"
     ]
    }
   ],
   "source": [
    "# vid-9 Property Decorators, Setters & Deleters\n",
    "class Employee:\n",
    "    def __init__(self,fname,lname,salary): #constractor\n",
    "        self.fname=fname #instance variable\n",
    "        self.lname=lname #instance variable\n",
    "        self.salary=salary\n",
    "        self.email= fname+lname+\"@gmail.com\"\n",
    "    \n",
    "rohan=Employee(\"rohan\",\"das\",40000)\n",
    "print(rohan.email)\n",
    "rohan.lname=\"khanna\" #this change is not implementing in email\n",
    "print(rohan.email)\n"
   ]
  },
  {
   "cell_type": "code",
   "execution_count": 92,
   "metadata": {},
   "outputs": [
    {
     "name": "stdout",
     "output_type": "stream",
     "text": [
      "rohandas@gmail.com\n",
      "rohankhanna@gmail.com\n"
     ]
    }
   ],
   "source": [
    "#makinf a new fun for email\n",
    "class Employee:\n",
    "    def __init__(self,fname,lname,salary): #constractor\n",
    "        self.fname=fname #instance variable\n",
    "        self.lname=lname #instance variable\n",
    "        self.salary=salary\n",
    "        \n",
    "    def email(self):\n",
    "        return self.fname+self.lname+\"@gmail.com\"\n",
    "    \n",
    "rohan=Employee(\"rohan\",\"das\",40000)\n",
    "print(rohan.email()) #rohal.email() as a fun call hui hai \n",
    "                    #aur change bhi reflect ho raha h\n",
    "\n",
    "rohan.lname=\"khanna\" \n",
    "print(rohan.email())"
   ]
  },
  {
   "cell_type": "code",
   "execution_count": null,
   "metadata": {},
   "outputs": [],
   "source": [
    "#agr hum funcrion wala bracket nahi lagana chahte toh hame @property decorator use karna \n",
    "#hoga iska matlab python use ab func nahi ek property hi manega"
   ]
  },
  {
   "cell_type": "code",
   "execution_count": 96,
   "metadata": {},
   "outputs": [
    {
     "name": "stdout",
     "output_type": "stream",
     "text": [
      "rohandas@gmail.com\n",
      "rohankhanna@gmail.com\n"
     ]
    }
   ],
   "source": [
    "class Employee:\n",
    "    def __init__(self,fname,lname,salary): #constractor\n",
    "        self.fname=fname #instance variable\n",
    "        self.lname=lname #instance variable\n",
    "        self.salary=salary\n",
    "    @property   \n",
    "    def email(self):\n",
    "        return self.fname+self.lname+\"@gmail.com\"\n",
    "    \n",
    "rohan=Employee(\"rohan\",\"das\",40000)\n",
    "print(rohan.email)\n",
    "rohan.lname=\"khanna\" \n",
    "print(rohan.email)\n"
   ]
  },
  {
   "cell_type": "code",
   "execution_count": 97,
   "metadata": {},
   "outputs": [
    {
     "name": "stdout",
     "output_type": "stream",
     "text": [
      "rohandas@gmail.com\n",
      "rohankhanna@gmail.com\n"
     ]
    },
    {
     "ename": "AttributeError",
     "evalue": "can't set attribute",
     "output_type": "error",
     "traceback": [
      "\u001b[1;31m---------------------------------------------------------------------------\u001b[0m",
      "\u001b[1;31mAttributeError\u001b[0m                            Traceback (most recent call last)",
      "\u001b[1;32m<ipython-input-97-d7b43ca32385>\u001b[0m in \u001b[0;36m<module>\u001b[1;34m\u001b[0m\n\u001b[0;32m     13\u001b[0m \u001b[0mrohan\u001b[0m\u001b[1;33m.\u001b[0m\u001b[0mlname\u001b[0m\u001b[1;33m=\u001b[0m\u001b[1;34m\"khanna\"\u001b[0m\u001b[1;33m\u001b[0m\u001b[1;33m\u001b[0m\u001b[0m\n\u001b[0;32m     14\u001b[0m \u001b[0mprint\u001b[0m\u001b[1;33m(\u001b[0m\u001b[0mrohan\u001b[0m\u001b[1;33m.\u001b[0m\u001b[0memail\u001b[0m\u001b[1;33m)\u001b[0m\u001b[1;33m\u001b[0m\u001b[1;33m\u001b[0m\u001b[0m\n\u001b[1;32m---> 15\u001b[1;33m \u001b[0mrohan\u001b[0m\u001b[1;33m.\u001b[0m\u001b[0memail\u001b[0m\u001b[1;33m=\u001b[0m\u001b[1;34m\"khannarohan@gmail.com\"\u001b[0m\u001b[1;33m\u001b[0m\u001b[1;33m\u001b[0m\u001b[0m\n\u001b[0m",
      "\u001b[1;31mAttributeError\u001b[0m: can't set attribute"
     ]
    }
   ],
   "source": [
    "#now me was to assing khannarohan@gmail.com to email\n",
    "class Employee:\n",
    "    def __init__(self,fname,lname,salary): #constractor\n",
    "        self.fname=fname #instance variable\n",
    "        self.lname=lname #instance variable\n",
    "        self.salary=salary\n",
    "    @property   \n",
    "    def email(self):\n",
    "        return self.fname+self.lname+\"@gmail.com\"\n",
    "    \n",
    "rohan=Employee(\"rohan\",\"das\",40000)\n",
    "print(rohan.email)\n",
    "rohan.lname=\"khanna\" \n",
    "print(rohan.email)\n",
    "rohan.email=\"khannarohan@gmail.com\""
   ]
  },
  {
   "cell_type": "code",
   "execution_count": 101,
   "metadata": {},
   "outputs": [
    {
     "name": "stdout",
     "output_type": "stream",
     "text": [
      "rohandas@gmail.com\n",
      "khannarohan@gmail.com\n"
     ]
    }
   ],
   "source": [
    "#agr hum attribute ya function me assign karke change karna chahe to \n",
    "#hame @setter ka use karna hoga\n",
    "class Employee:\n",
    "    def __init__(self,fname,lname,salary): #constractor\n",
    "        self.fname=fname #instance variable\n",
    "        self.lname=lname #instance variable\n",
    "        self.salary=salary\n",
    "    @property   \n",
    "    def email(self):\n",
    "        return self.fname+self.lname+\"@gmail.com\"\n",
    "    @email.setter\n",
    "    def email(self ,given_email):\n",
    "        name_list = given_email.split('@')[0].split(\".\")\n",
    "        self.fname=name_list[0]\n",
    "        self.lname=name_list[1]\n",
    "rohan=Employee(\"rohan\",\"das\",40000)\n",
    "print(rohan.email)\n",
    "rohan.email=\"khanna.rohan@gmail.com\"\n",
    "print(rohan.email)"
   ]
  },
  {
   "cell_type": "code",
   "execution_count": 102,
   "metadata": {},
   "outputs": [
    {
     "name": "stdout",
     "output_type": "stream",
     "text": [
      "rohandas@gmail.com\n",
      "khannarohan@gmail.com\n",
      "email not set\n"
     ]
    }
   ],
   "source": [
    "#agr hum delete karna chahe email toh deleter use karna padega\n",
    "class Employee:\n",
    "    def __init__(self,fname,lname,salary): #constractor\n",
    "        self.fname=fname #instance variable\n",
    "        self.lname=lname #instance variable\n",
    "        self.salary=salary\n",
    "    @property   \n",
    "    def email(self):\n",
    "        if self.fname==None:\n",
    "            return \"email not set\"\n",
    "        return self.fname+self.lname+\"@gmail.com\"\n",
    "    @email.setter\n",
    "    def email(self ,given_email):\n",
    "        name_list = given_email.split('@')[0].split(\".\")\n",
    "        self.fname=name_list[0]\n",
    "        self.lname=name_list[1]\n",
    "    @email.deleter\n",
    "    def email(self):\n",
    "        self.fname=None\n",
    "        self.lname=None\n",
    "        \n",
    "        \n",
    "rohan=Employee(\"rohan\",\"das\",40000)\n",
    "print(rohan.email)\n",
    "rohan.email=\"khanna.rohan@gmail.com\"\n",
    "print(rohan.email)\n",
    "del rohan.email\n",
    "print(rohan.email)"
   ]
  },
  {
   "cell_type": "code",
   "execution_count": null,
   "metadata": {},
   "outputs": [],
   "source": []
  }
 ],
 "metadata": {
  "kernelspec": {
   "display_name": "Python 3",
   "language": "python",
   "name": "python3"
  },
  "language_info": {
   "codemirror_mode": {
    "name": "ipython",
    "version": 3
   },
   "file_extension": ".py",
   "mimetype": "text/x-python",
   "name": "python",
   "nbconvert_exporter": "python",
   "pygments_lexer": "ipython3",
   "version": "3.6.8"
  }
 },
 "nbformat": 4,
 "nbformat_minor": 4
}
