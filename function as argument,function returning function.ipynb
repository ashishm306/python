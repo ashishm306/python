{
 "cells": [
  {
   "cell_type": "code",
   "execution_count": 4,
   "metadata": {},
   "outputs": [
    {
     "data": {
      "text/plain": [
       "[1, 4, 9, 16]"
      ]
     },
     "execution_count": 4,
     "metadata": {},
     "output_type": "execute_result"
    }
   ],
   "source": [
    "#vid 167 , fun as argument\n",
    "def square(a):\n",
    "    return a**2\n",
    "l=[1,2,3,4]\n",
    "\n",
    "def my_map(func,l):\n",
    "    new_list = []\n",
    "    for item in l:\n",
    "        new_list.append(func(item))\n",
    "    return new_list\n",
    "my_map(square,l)"
   ]
  },
  {
   "cell_type": "code",
   "execution_count": 5,
   "metadata": {},
   "outputs": [],
   "source": [
    "#cid 168 - function returning func\n",
    "def outer_func():\n",
    "    def inner_func():\n",
    "        print('inside inner func')\n",
    "    return inner_func\n",
    "var = outer_func()"
   ]
  },
  {
   "cell_type": "code",
   "execution_count": 6,
   "metadata": {},
   "outputs": [
    {
     "name": "stdout",
     "output_type": "stream",
     "text": [
      "inside inner func\n"
     ]
    }
   ],
   "source": [
    "var()"
   ]
  },
  {
   "cell_type": "code",
   "execution_count": 2,
   "metadata": {},
   "outputs": [
    {
     "name": "stdout",
     "output_type": "stream",
     "text": [
      "125\n"
     ]
    }
   ],
   "source": [
    "#practice\n",
    "def to_power(x):\n",
    "    def calc_power(n):\n",
    "        return n**x\n",
    "    return calc_power\n",
    "cube = to_power(3)\n",
    "print(cube(5))"
   ]
  },
  {
   "cell_type": "code",
   "execution_count": null,
   "metadata": {},
   "outputs": [],
   "source": []
  }
 ],
 "metadata": {
  "kernelspec": {
   "display_name": "Python 3",
   "language": "python",
   "name": "python3"
  },
  "language_info": {
   "codemirror_mode": {
    "name": "ipython",
    "version": 3
   },
   "file_extension": ".py",
   "mimetype": "text/x-python",
   "name": "python",
   "nbconvert_exporter": "python",
   "pygments_lexer": "ipython3",
   "version": "3.6.8"
  }
 },
 "nbformat": 4,
 "nbformat_minor": 4
}
