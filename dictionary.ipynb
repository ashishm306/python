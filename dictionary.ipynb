{
 "cells": [
  {
   "cell_type": "raw",
   "metadata": {},
   "source": [
    "#vid 114\n",
    "Q. why we  use dictionaries?\n",
    "A. because of limitations of list,lists are not enough to represent real data\n",
    " \n",
    "q. what are dictionaries?\n",
    "A. unordered collections of data in {key : value} pair\n",
    "\n"
   ]
  },
  {
   "cell_type": "code",
   "execution_count": 2,
   "metadata": {},
   "outputs": [
    {
     "name": "stdout",
     "output_type": "stream",
     "text": [
      "{'name': 'Ashish', 'age': 24}\n"
     ]
    }
   ],
   "source": [
    "#how to create dictionaries\n",
    "user = {'name' : \"Ashish\",\"age\":24}\n",
    "print(user)"
   ]
  },
  {
   "cell_type": "code",
   "execution_count": 3,
   "metadata": {},
   "outputs": [
    {
     "name": "stdout",
     "output_type": "stream",
     "text": [
      "{'name': 'harshit', 'age': 24}\n"
     ]
    }
   ],
   "source": [
    "#second method to create dictionary\n",
    "user1 = dict(name='harshit',age = 24)\n",
    "print(user1)"
   ]
  },
  {
   "cell_type": "code",
   "execution_count": 9,
   "metadata": {},
   "outputs": [
    {
     "name": "stdout",
     "output_type": "stream",
     "text": [
      "{'name': 'Ashish', 'age': 24, 'fav_movies': ['coco', 'siper'], 'fav-song': ['loca', 'waka-waka']}\n"
     ]
    }
   ],
   "source": [
    "#which type of data a dictionary can store?\n",
    "# numbers,strings,list,dictionaries\n",
    "user_info = {\n",
    "    'name':\"Ashish\",\n",
    "    'age':24,\n",
    "    'fav_movies': ['coco','siper'],\n",
    "    'fav-song':['loca','waka-waka']\n",
    "}\n",
    "print(user_info)"
   ]
  },
  {
   "cell_type": "code",
   "execution_count": 49,
   "metadata": {},
   "outputs": [
    {
     "name": "stdout",
     "output_type": "stream",
     "text": [
      "{'name': 'Ashish Mishra'}\n"
     ]
    }
   ],
   "source": [
    "#how to add data to empty dictionary\n",
    "user1={}\n",
    "user1[\"name\"]=\"Ashish Mishra\"\n",
    "print(user1)"
   ]
  },
  {
   "cell_type": "code",
   "execution_count": 7,
   "metadata": {},
   "outputs": [
    {
     "name": "stdout",
     "output_type": "stream",
     "text": [
      "popped item is ['loca', 'waka-waka']\n"
     ]
    }
   ],
   "source": [
    "#vid-116 pop method\n",
    "#we have to pass a key in pop method because dictionary have no index\n",
    "user_info = {\n",
    "    'name':\"Ashish\",\n",
    "    'age':24,\n",
    "    'fav_movies': ['coco','siper'],\n",
    "    'fav-song':['loca','waka-waka']\n",
    "}\n",
    "popped_item = user_info.pop('fav-song')\n",
    "print(f'popped item is {popped_item}')"
   ]
  },
  {
   "cell_type": "code",
   "execution_count": 11,
   "metadata": {},
   "outputs": [
    {
     "name": "stdout",
     "output_type": "stream",
     "text": [
      "{'name': 'Ashish', 'age': 24, 'fav-song': ['loca', 'waka-waka']}\n",
      "('fav_movies', ['coco', 'siper'])\n"
     ]
    }
   ],
   "source": [
    "#popitem method - it deletes randomly key value pair\n",
    "user_info = {\n",
    "    'name':\"Ashish\",\n",
    "    'age':24,\n",
    "    'fav-song':['loca','waka-waka'],\n",
    "    'fav_movies': ['coco','siper'],\n",
    "\n",
    "}\n",
    "popped_item = user_info.popitem()\n",
    "print(user_info)\n",
    "print(popped_item)"
   ]
  },
  {
   "cell_type": "code",
   "execution_count": 12,
   "metadata": {},
   "outputs": [
    {
     "name": "stdout",
     "output_type": "stream",
     "text": [
      "present\n"
     ]
    }
   ],
   "source": [
    "#vid 115\n",
    "user_info = {\n",
    "    'name':\"Ashish\",\n",
    "    'age':24,\n",
    "    'fav-song':['loca','waka-waka'],\n",
    "    'fav_movies': ['coco','siper'],\n",
    "\n",
    "}\n",
    "#check if key exist in dictionary\n",
    "if 'name'in user_info:\n",
    "    print('present')\n",
    "else:\n",
    "    print(\"not present\")\n",
    "    "
   ]
  },
  {
   "cell_type": "code",
   "execution_count": 13,
   "metadata": {},
   "outputs": [
    {
     "name": "stdout",
     "output_type": "stream",
     "text": [
      "present\n"
     ]
    }
   ],
   "source": [
    "#check if value exist in dictionary using values() method\n",
    "if 24 in user_info.values(): \n",
    "    print('present')\n",
    "else:\n",
    "    print(\"not present\")"
   ]
  },
  {
   "cell_type": "code",
   "execution_count": 14,
   "metadata": {},
   "outputs": [
    {
     "name": "stdout",
     "output_type": "stream",
     "text": [
      "dict_values(['Ashish', 24, ['loca', 'waka-waka'], ['coco', 'siper']])\n",
      "<class 'dict_values'>\n"
     ]
    }
   ],
   "source": [
    "#values method\n",
    "user_info_values = user_info.values()\n",
    "print(user_info_values)\n",
    "print(type(user_info_values))"
   ]
  },
  {
   "cell_type": "code",
   "execution_count": 16,
   "metadata": {},
   "outputs": [
    {
     "name": "stdout",
     "output_type": "stream",
     "text": [
      "dict_keys(['name', 'age', 'fav-song', 'fav_movies'])\n",
      "<class 'dict_keys'>\n"
     ]
    }
   ],
   "source": [
    "# key method\n",
    "user_info_keys= user_info.keys()\n",
    "print(user_info_keys)\n",
    "print(type(user_info_keys))"
   ]
  },
  {
   "cell_type": "code",
   "execution_count": 17,
   "metadata": {},
   "outputs": [
    {
     "name": "stdout",
     "output_type": "stream",
     "text": [
      "dict_items([('name', 'Ashish'), ('age', 24), ('fav-song', ['loca', 'waka-waka']), ('fav_movies', ['coco', 'siper'])])\n",
      "<class 'dict_items'>\n"
     ]
    }
   ],
   "source": [
    "#item method - it returns key,value pair in tuple format\n",
    "user_info = {\n",
    "    'name':\"Ashish\",\n",
    "    'age':24,\n",
    "    'fav-song':['loca','waka-waka'],\n",
    "    'fav_movies': ['coco','siper'],\n",
    "\n",
    "}\n",
    "user_items = user_info.items()\n",
    "print(user_items)\n",
    "print(type(user_items))"
   ]
  },
  {
   "cell_type": "code",
   "execution_count": 19,
   "metadata": {},
   "outputs": [
    {
     "name": "stdout",
     "output_type": "stream",
     "text": [
      "key is name and value is Ashish\n",
      "key is age and value is 24\n",
      "key is fav-song and value is ['loca', 'waka-waka']\n",
      "key is fav_movies and value is ['coco', 'siper']\n"
     ]
    }
   ],
   "source": [
    "user_info = {\n",
    "    'name':\"Ashish\",\n",
    "    'age':24,\n",
    "    'fav-song':['loca','waka-waka'],\n",
    "    'fav_movies': ['coco','siper'],\n",
    "\n",
    "}\n",
    "user_items = user_info.items()\n",
    "for i,j in user_info.items():\n",
    "    print(f'key is {i} and value is {j}')"
   ]
  },
  {
   "cell_type": "code",
   "execution_count": 22,
   "metadata": {},
   "outputs": [
    {
     "name": "stdout",
     "output_type": "stream",
     "text": [
      "{'name': 'Ashish mishra', 'age': 24, 'fav-song': ['loca', 'waka-waka'], 'fav_movies': ['coco', 'siper'], 'state': 'Delhi'}\n"
     ]
    }
   ],
   "source": [
    "#update method\n",
    "user_info = {\n",
    "    'name':\"Ashish\",\n",
    "    'age':24,\n",
    "    'fav-song':['loca','waka-waka'],\n",
    "    'fav_movies': ['coco','siper'],\n",
    "\n",
    "}\n",
    "more_info= {'name': 'Ashish mishra', \"state\" :\"Delhi\" }\n",
    "\n",
    "user_info.update(more_info)\n",
    "print(user_info)"
   ]
  },
  {
   "cell_type": "code",
   "execution_count": 27,
   "metadata": {},
   "outputs": [
    {
     "name": "stdout",
     "output_type": "stream",
     "text": [
      "{'name': 'unknown', 'height': 'unknown', 'age': 'unknown'}\n"
     ]
    }
   ],
   "source": [
    "#vid 118\n",
    "#from keys\n",
    "#d={'name' : 'unknown' ,\"age\" : \"unknown\"}\n",
    "\n",
    "d=dict.fromkeys([\"name\" ,\"height\" ,\"age\"], \"unknown\")\n",
    "print(d)"
   ]
  },
  {
   "cell_type": "code",
   "execution_count": 28,
   "metadata": {},
   "outputs": [
    {
     "name": "stdout",
     "output_type": "stream",
     "text": [
      "{'name': 'unknown', 'height': 'unknown', 'age': 'unknown'}\n"
     ]
    }
   ],
   "source": [
    "d=dict.fromkeys((\"name\" ,\"height\" ,\"age\"), \"unknown\") #using tuple also tape\n",
    "print(d) "
   ]
  },
  {
   "cell_type": "code",
   "execution_count": 31,
   "metadata": {},
   "outputs": [
    {
     "ename": "KeyError",
     "evalue": "'names'",
     "output_type": "error",
     "traceback": [
      "\u001b[1;31m---------------------------------------------------------------------------\u001b[0m",
      "\u001b[1;31mKeyError\u001b[0m                                  Traceback (most recent call last)",
      "\u001b[1;32m<ipython-input-31-77f8ba51bc04>\u001b[0m in \u001b[0;36m<module>\u001b[1;34m\u001b[0m\n\u001b[0;32m      1\u001b[0m \u001b[0md\u001b[0m \u001b[1;33m=\u001b[0m \u001b[1;33m{\u001b[0m\u001b[1;34m'name'\u001b[0m\u001b[1;33m:\u001b[0m \u001b[1;34m'Ashish mishra'\u001b[0m\u001b[1;33m,\u001b[0m \u001b[1;34m'age'\u001b[0m\u001b[1;33m:\u001b[0m \u001b[1;36m24\u001b[0m\u001b[1;33m,\u001b[0m \u001b[1;34m'fav-song'\u001b[0m\u001b[1;33m:\u001b[0m \u001b[1;33m[\u001b[0m\u001b[1;34m'loca'\u001b[0m\u001b[1;33m,\u001b[0m \u001b[1;34m'waka-waka'\u001b[0m\u001b[1;33m]\u001b[0m\u001b[1;33m,\u001b[0m \u001b[1;34m'fav_movies'\u001b[0m\u001b[1;33m:\u001b[0m \u001b[1;33m[\u001b[0m\u001b[1;34m'coco'\u001b[0m\u001b[1;33m,\u001b[0m \u001b[1;34m'siper'\u001b[0m\u001b[1;33m]\u001b[0m\u001b[1;33m,\u001b[0m \u001b[1;34m'state'\u001b[0m\u001b[1;33m:\u001b[0m \u001b[1;34m'Delhi'\u001b[0m\u001b[1;33m}\u001b[0m\u001b[1;33m\u001b[0m\u001b[1;33m\u001b[0m\u001b[0m\n\u001b[1;32m----> 2\u001b[1;33m \u001b[0mprint\u001b[0m\u001b[1;33m(\u001b[0m\u001b[0md\u001b[0m\u001b[1;33m[\u001b[0m\u001b[1;34m'names'\u001b[0m\u001b[1;33m]\u001b[0m\u001b[1;33m)\u001b[0m\u001b[1;33m\u001b[0m\u001b[1;33m\u001b[0m\u001b[0m\n\u001b[0m",
      "\u001b[1;31mKeyError\u001b[0m: 'names'"
     ]
    }
   ],
   "source": [
    "d = {'name': 'Ashish mishra', 'age': 24, 'fav-song': ['loca', 'waka-waka'], 'fav_movies': ['coco', 'siper'], 'state': 'Delhi'}\n",
    "print(d['names']) #becas names is not present but name is present,there is error\n"
   ]
  },
  {
   "cell_type": "code",
   "execution_count": 32,
   "metadata": {},
   "outputs": [
    {
     "name": "stdout",
     "output_type": "stream",
     "text": [
      "None\n"
     ]
    }
   ],
   "source": [
    "#get method - it gves none instead of error\n",
    "d = {'name': 'Ashish mishra', 'age': 24, 'fav-song': ['loca', 'waka-waka']}\n",
    "print(d.get('names'))"
   ]
  },
  {
   "cell_type": "code",
   "execution_count": 33,
   "metadata": {},
   "outputs": [
    {
     "name": "stdout",
     "output_type": "stream",
     "text": [
      "{}\n"
     ]
    }
   ],
   "source": [
    "#clear\n",
    "d = {'name': 'Ashish mishra', 'age': 24, 'fav-song': ['loca', 'waka-waka']}\n",
    "d.clear()\n",
    "print(d)"
   ]
  },
  {
   "cell_type": "code",
   "execution_count": 34,
   "metadata": {},
   "outputs": [
    {
     "name": "stdout",
     "output_type": "stream",
     "text": [
      "{'name': 'Ashish mishra', 'age': 24, 'fav-song': ['loca', 'waka-waka']}\n"
     ]
    }
   ],
   "source": [
    "#copy\n",
    "d = {'name': 'Ashish mishra', 'age': 24, 'fav-song': ['loca', 'waka-waka']}\n",
    "d1=d.copy()\n",
    "print(d1)"
   ]
  },
  {
   "cell_type": "code",
   "execution_count": 36,
   "metadata": {},
   "outputs": [
    {
     "name": "stdout",
     "output_type": "stream",
     "text": [
      "('age', 24)\n",
      "{'name': 'Ashish mishra'}\n",
      "True\n"
     ]
    }
   ],
   "source": [
    "d=d1 #both are same dictionary if we delete in d it will also delet in d1\n",
    "print(d1.popitem())\n",
    "print(d)\n",
    "#remember shallow copy concept\n"
   ]
  },
  {
   "cell_type": "code",
   "execution_count": 38,
   "metadata": {},
   "outputs": [
    {
     "name": "stdout",
     "output_type": "stream",
     "text": [
      "False\n"
     ]
    }
   ],
   "source": [
    "d = {'name': 'Ashish mishra', 'age': 24}\n",
    "d1=d.copy\n",
    "print(d1 is d)"
   ]
  },
  {
   "cell_type": "code",
   "execution_count": 43,
   "metadata": {},
   "outputs": [
    {
     "name": "stdout",
     "output_type": "stream",
     "text": [
      "{'name': 'Ashish mishra', 'age': 34}\n"
     ]
    }
   ],
   "source": [
    "#vid 119\n",
    "#more about get method\n",
    "user = {'name': 'Ashish mishra', 'age': 24,\"age\" : 34} #override ho jaegi age\n",
    "print(user)\n",
    "\n",
    "user.get('names','notfound!')"
   ]
  },
  {
   "cell_type": "code",
   "execution_count": 67,
   "metadata": {},
   "outputs": [
    {
     "name": "stdout",
     "output_type": "stream",
     "text": [
      "{1: 1, 2: 8, 3: 27, 4: 64, 5: 125}\n"
     ]
    }
   ],
   "source": [
    "#exercise1\n",
    "def cube_finder(l):\n",
    "        d11={}\n",
    "        for i in range(1,l+1):\n",
    "            d11[i]=i**3\n",
    "        print(d11)        \n",
    "cube_finder(5)\n",
    "        "
   ]
  },
  {
   "cell_type": "code",
   "execution_count": 69,
   "metadata": {},
   "outputs": [
    {
     "name": "stdout",
     "output_type": "stream",
     "text": [
      "{'h': 2, 'a': 1, 'r': 1, 's': 1, 'i': 1, 't': 1}\n"
     ]
    }
   ],
   "source": [
    "#word counter\n",
    "\n",
    "def word_counter(S):\n",
    "        count = {}\n",
    "        for char in S:\n",
    "            count[char] = S.count(char)\n",
    "        return count\n",
    "print(word_counter('harshit'))"
   ]
  },
  {
   "cell_type": "code",
   "execution_count": 71,
   "metadata": {},
   "outputs": [
    {
     "name": "stdout",
     "output_type": "stream",
     "text": [
      "what is your name : ashish\n",
      "what is your age : 24\n",
      "your fav movies sep by commam1,m2\n",
      "your fav movies sep by commas1,s2\n",
      "name:ashish\n",
      "age:24\n",
      "fav_movies:['m1', 'm2']\n",
      "fav_songs:['s1', 's2']\n"
     ]
    }
   ],
   "source": [
    "#exercise 2\n",
    "name = input('what is your name : ')\n",
    "age = input('what is your age : ')\n",
    "fav_movies = input('your fav movies sep by comma').split(\",\")\n",
    "fav_songs = input('your fav movies sep by comma').split(\",\")\n",
    "\n",
    "user={}\n",
    "user[\"name\"]=name\n",
    "user[\"age\"]= age\n",
    "user[\"fav_movies\"]=fav_movies\n",
    "user[\"fav_songs\"]=fav_songs\n",
    "\n",
    "for keys,values in user.items():\n",
    "    print(f'{keys}:{values}')"
   ]
  },
  {
   "cell_type": "code",
   "execution_count": 73,
   "metadata": {},
   "outputs": [
    {
     "name": "stdout",
     "output_type": "stream",
     "text": [
      "sep , a,s,d,w,d,e\n",
      "['a', 's', 'd', 'w', 'd', 'e']\n"
     ]
    }
   ],
   "source": [
    "a=input(\"sep , \").split(\",\")\n",
    "print(a)"
   ]
  },
  {
   "cell_type": "code",
   "execution_count": 74,
   "metadata": {},
   "outputs": [
    {
     "name": "stdout",
     "output_type": "stream",
     "text": [
      "this is \\\\ double bakslash\n"
     ]
    }
   ],
   "source": [
    "print(\"this is \\\\\\\\ double bakslash\")"
   ]
  },
  {
   "cell_type": "code",
   "execution_count": 75,
   "metadata": {},
   "outputs": [
    {
     "name": "stdout",
     "output_type": "stream",
     "text": [
      "this is /\\/\\/\\/\\ double bakslash\n"
     ]
    }
   ],
   "source": [
    "print(r\"this is /\\/\\/\\/\\ double bakslash\")"
   ]
  },
  {
   "cell_type": "code",
   "execution_count": 76,
   "metadata": {},
   "outputs": [
    {
     "name": "stdout",
     "output_type": "stream",
     "text": [
      "\\\" \\n \\t \n"
     ]
    }
   ],
   "source": [
    "print(r\"\\\" \\n \\t \")"
   ]
  },
  {
   "cell_type": "code",
   "execution_count": 77,
   "metadata": {},
   "outputs": [
    {
     "name": "stdout",
     "output_type": "stream",
     "text": [
      "this is /\\/\\/\\/\\ double bakslash\n"
     ]
    }
   ],
   "source": [
    "print(\"this is /\\\\/\\\\/\\\\/\\\\ double bakslash\")"
   ]
  },
  {
   "cell_type": "code",
   "execution_count": 1,
   "metadata": {},
   "outputs": [
    {
     "name": "stdout",
     "output_type": "stream",
     "text": [
      "\\\" \n",
      " \t \n"
     ]
    }
   ],
   "source": [
    "print('\\\\\" \\n \\t ')"
   ]
  },
  {
   "cell_type": "code",
   "execution_count": null,
   "metadata": {},
   "outputs": [],
   "source": []
  },
  {
   "cell_type": "code",
   "execution_count": null,
   "metadata": {},
   "outputs": [],
   "source": []
  }
 ],
 "metadata": {
  "kernelspec": {
   "display_name": "Python 3",
   "language": "python",
   "name": "python3"
  },
  "language_info": {
   "codemirror_mode": {
    "name": "ipython",
    "version": 3
   },
   "file_extension": ".py",
   "mimetype": "text/x-python",
   "name": "python",
   "nbconvert_exporter": "python",
   "pygments_lexer": "ipython3",
   "version": "3.6.8"
  }
 },
 "nbformat": 4,
 "nbformat_minor": 4
}
